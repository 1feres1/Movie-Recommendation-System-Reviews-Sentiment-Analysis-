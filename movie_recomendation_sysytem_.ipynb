{
  "nbformat": 4,
  "nbformat_minor": 0,
  "metadata": {
    "colab": {
      "name": "movie recomendation sysytem .ipynb",
      "provenance": []
    },
    "kernelspec": {
      "name": "python3",
      "display_name": "Python 3"
    }
  },
  "cells": [
    {
      "cell_type": "code",
      "metadata": {
        "colab": {
          "base_uri": "https://localhost:8080/"
        },
        "id": "0G6qEMoLgKog",
        "outputId": "7b0f0673-8c5c-4442-a7ac-d4c42b9008af"
      },
      "source": [
        "!unzip  \"/content/drive/MyDrive/archive (2).zip\" -d \"/content/drive/MyDrive/movie\""
      ],
      "execution_count": null,
      "outputs": [
        {
          "output_type": "stream",
          "text": [
            "Archive:  /content/drive/MyDrive/archive (2).zip\n",
            "  inflating: /content/drive/MyDrive/movie/credits.csv  \n",
            "  inflating: /content/drive/MyDrive/movie/keywords.csv  \n",
            "  inflating: /content/drive/MyDrive/movie/links.csv  \n",
            "  inflating: /content/drive/MyDrive/movie/links_small.csv  \n",
            "  inflating: /content/drive/MyDrive/movie/movies_metadata.csv  \n",
            "  inflating: /content/drive/MyDrive/movie/ratings.csv  \n",
            "  inflating: /content/drive/MyDrive/movie/ratings_small.csv  \n"
          ],
          "name": "stdout"
        }
      ]
    },
    {
      "cell_type": "code",
      "metadata": {
        "id": "YUnvl-eigvnQ"
      },
      "source": [
        "import pandas as pd \n",
        "df = pd.read_csv('/content/drive/MyDrive/movie/movie_metadata.csv')\n",
        "\n"
      ],
      "execution_count": null,
      "outputs": []
    },
    {
      "cell_type": "code",
      "metadata": {
        "colab": {
          "base_uri": "https://localhost:8080/",
          "height": 360
        },
        "id": "_IeSrwythuBI",
        "outputId": "46060faf-8dc9-411d-e9e8-baacb8ec1c0d"
      },
      "source": [
        "df.head()"
      ],
      "execution_count": null,
      "outputs": [
        {
          "output_type": "execute_result",
          "data": {
            "text/html": [
              "<div>\n",
              "<style scoped>\n",
              "    .dataframe tbody tr th:only-of-type {\n",
              "        vertical-align: middle;\n",
              "    }\n",
              "\n",
              "    .dataframe tbody tr th {\n",
              "        vertical-align: top;\n",
              "    }\n",
              "\n",
              "    .dataframe thead th {\n",
              "        text-align: right;\n",
              "    }\n",
              "</style>\n",
              "<table border=\"1\" class=\"dataframe\">\n",
              "  <thead>\n",
              "    <tr style=\"text-align: right;\">\n",
              "      <th></th>\n",
              "      <th>color</th>\n",
              "      <th>director_name</th>\n",
              "      <th>num_critic_for_reviews</th>\n",
              "      <th>duration</th>\n",
              "      <th>director_facebook_likes</th>\n",
              "      <th>actor_3_facebook_likes</th>\n",
              "      <th>actor_2_name</th>\n",
              "      <th>actor_1_facebook_likes</th>\n",
              "      <th>gross</th>\n",
              "      <th>genres</th>\n",
              "      <th>actor_1_name</th>\n",
              "      <th>movie_title</th>\n",
              "      <th>num_voted_users</th>\n",
              "      <th>cast_total_facebook_likes</th>\n",
              "      <th>actor_3_name</th>\n",
              "      <th>facenumber_in_poster</th>\n",
              "      <th>plot_keywords</th>\n",
              "      <th>movie_imdb_link</th>\n",
              "      <th>num_user_for_reviews</th>\n",
              "      <th>language</th>\n",
              "      <th>country</th>\n",
              "      <th>content_rating</th>\n",
              "      <th>budget</th>\n",
              "      <th>title_year</th>\n",
              "      <th>actor_2_facebook_likes</th>\n",
              "      <th>imdb_score</th>\n",
              "      <th>aspect_ratio</th>\n",
              "      <th>movie_facebook_likes</th>\n",
              "    </tr>\n",
              "  </thead>\n",
              "  <tbody>\n",
              "    <tr>\n",
              "      <th>0</th>\n",
              "      <td>Color</td>\n",
              "      <td>James Cameron</td>\n",
              "      <td>723.0</td>\n",
              "      <td>178.0</td>\n",
              "      <td>0.0</td>\n",
              "      <td>855.0</td>\n",
              "      <td>Joel David Moore</td>\n",
              "      <td>1000.0</td>\n",
              "      <td>760505847.0</td>\n",
              "      <td>Action|Adventure|Fantasy|Sci-Fi</td>\n",
              "      <td>CCH Pounder</td>\n",
              "      <td>Avatar</td>\n",
              "      <td>886204</td>\n",
              "      <td>4834</td>\n",
              "      <td>Wes Studi</td>\n",
              "      <td>0.0</td>\n",
              "      <td>avatar|future|marine|native|paraplegic</td>\n",
              "      <td>http://www.imdb.com/title/tt0499549/?ref_=fn_t...</td>\n",
              "      <td>3054.0</td>\n",
              "      <td>English</td>\n",
              "      <td>USA</td>\n",
              "      <td>PG-13</td>\n",
              "      <td>237000000.0</td>\n",
              "      <td>2009.0</td>\n",
              "      <td>936.0</td>\n",
              "      <td>7.9</td>\n",
              "      <td>1.78</td>\n",
              "      <td>33000</td>\n",
              "    </tr>\n",
              "    <tr>\n",
              "      <th>1</th>\n",
              "      <td>Color</td>\n",
              "      <td>Gore Verbinski</td>\n",
              "      <td>302.0</td>\n",
              "      <td>169.0</td>\n",
              "      <td>563.0</td>\n",
              "      <td>1000.0</td>\n",
              "      <td>Orlando Bloom</td>\n",
              "      <td>40000.0</td>\n",
              "      <td>309404152.0</td>\n",
              "      <td>Action|Adventure|Fantasy</td>\n",
              "      <td>Johnny Depp</td>\n",
              "      <td>Pirates of the Caribbean: At World's End</td>\n",
              "      <td>471220</td>\n",
              "      <td>48350</td>\n",
              "      <td>Jack Davenport</td>\n",
              "      <td>0.0</td>\n",
              "      <td>goddess|marriage ceremony|marriage proposal|pi...</td>\n",
              "      <td>http://www.imdb.com/title/tt0449088/?ref_=fn_t...</td>\n",
              "      <td>1238.0</td>\n",
              "      <td>English</td>\n",
              "      <td>USA</td>\n",
              "      <td>PG-13</td>\n",
              "      <td>300000000.0</td>\n",
              "      <td>2007.0</td>\n",
              "      <td>5000.0</td>\n",
              "      <td>7.1</td>\n",
              "      <td>2.35</td>\n",
              "      <td>0</td>\n",
              "    </tr>\n",
              "    <tr>\n",
              "      <th>2</th>\n",
              "      <td>Color</td>\n",
              "      <td>Sam Mendes</td>\n",
              "      <td>602.0</td>\n",
              "      <td>148.0</td>\n",
              "      <td>0.0</td>\n",
              "      <td>161.0</td>\n",
              "      <td>Rory Kinnear</td>\n",
              "      <td>11000.0</td>\n",
              "      <td>200074175.0</td>\n",
              "      <td>Action|Adventure|Thriller</td>\n",
              "      <td>Christoph Waltz</td>\n",
              "      <td>Spectre</td>\n",
              "      <td>275868</td>\n",
              "      <td>11700</td>\n",
              "      <td>Stephanie Sigman</td>\n",
              "      <td>1.0</td>\n",
              "      <td>bomb|espionage|sequel|spy|terrorist</td>\n",
              "      <td>http://www.imdb.com/title/tt2379713/?ref_=fn_t...</td>\n",
              "      <td>994.0</td>\n",
              "      <td>English</td>\n",
              "      <td>UK</td>\n",
              "      <td>PG-13</td>\n",
              "      <td>245000000.0</td>\n",
              "      <td>2015.0</td>\n",
              "      <td>393.0</td>\n",
              "      <td>6.8</td>\n",
              "      <td>2.35</td>\n",
              "      <td>85000</td>\n",
              "    </tr>\n",
              "    <tr>\n",
              "      <th>3</th>\n",
              "      <td>Color</td>\n",
              "      <td>Christopher Nolan</td>\n",
              "      <td>813.0</td>\n",
              "      <td>164.0</td>\n",
              "      <td>22000.0</td>\n",
              "      <td>23000.0</td>\n",
              "      <td>Christian Bale</td>\n",
              "      <td>27000.0</td>\n",
              "      <td>448130642.0</td>\n",
              "      <td>Action|Thriller</td>\n",
              "      <td>Tom Hardy</td>\n",
              "      <td>The Dark Knight Rises</td>\n",
              "      <td>1144337</td>\n",
              "      <td>106759</td>\n",
              "      <td>Joseph Gordon-Levitt</td>\n",
              "      <td>0.0</td>\n",
              "      <td>deception|imprisonment|lawlessness|police offi...</td>\n",
              "      <td>http://www.imdb.com/title/tt1345836/?ref_=fn_t...</td>\n",
              "      <td>2701.0</td>\n",
              "      <td>English</td>\n",
              "      <td>USA</td>\n",
              "      <td>PG-13</td>\n",
              "      <td>250000000.0</td>\n",
              "      <td>2012.0</td>\n",
              "      <td>23000.0</td>\n",
              "      <td>8.5</td>\n",
              "      <td>2.35</td>\n",
              "      <td>164000</td>\n",
              "    </tr>\n",
              "    <tr>\n",
              "      <th>4</th>\n",
              "      <td>NaN</td>\n",
              "      <td>Doug Walker</td>\n",
              "      <td>NaN</td>\n",
              "      <td>NaN</td>\n",
              "      <td>131.0</td>\n",
              "      <td>NaN</td>\n",
              "      <td>Rob Walker</td>\n",
              "      <td>131.0</td>\n",
              "      <td>NaN</td>\n",
              "      <td>Documentary</td>\n",
              "      <td>Doug Walker</td>\n",
              "      <td>Star Wars: Episode VII - The Force Awakens    ...</td>\n",
              "      <td>8</td>\n",
              "      <td>143</td>\n",
              "      <td>NaN</td>\n",
              "      <td>0.0</td>\n",
              "      <td>NaN</td>\n",
              "      <td>http://www.imdb.com/title/tt5289954/?ref_=fn_t...</td>\n",
              "      <td>NaN</td>\n",
              "      <td>NaN</td>\n",
              "      <td>NaN</td>\n",
              "      <td>NaN</td>\n",
              "      <td>NaN</td>\n",
              "      <td>NaN</td>\n",
              "      <td>12.0</td>\n",
              "      <td>7.1</td>\n",
              "      <td>NaN</td>\n",
              "      <td>0</td>\n",
              "    </tr>\n",
              "  </tbody>\n",
              "</table>\n",
              "</div>"
            ],
            "text/plain": [
              "   color      director_name  ...  aspect_ratio  movie_facebook_likes\n",
              "0  Color      James Cameron  ...          1.78                 33000\n",
              "1  Color     Gore Verbinski  ...          2.35                     0\n",
              "2  Color         Sam Mendes  ...          2.35                 85000\n",
              "3  Color  Christopher Nolan  ...          2.35                164000\n",
              "4    NaN        Doug Walker  ...           NaN                     0\n",
              "\n",
              "[5 rows x 28 columns]"
            ]
          },
          "metadata": {
            "tags": []
          },
          "execution_count": 3
        }
      ]
    },
    {
      "cell_type": "code",
      "metadata": {
        "colab": {
          "base_uri": "https://localhost:8080/"
        },
        "id": "Hp5RTTM-k0-F",
        "outputId": "74e6f964-35e3-4aa6-b97e-2b42096214f3"
      },
      "source": [
        "df.columns"
      ],
      "execution_count": null,
      "outputs": [
        {
          "output_type": "execute_result",
          "data": {
            "text/plain": [
              "Index(['color', 'director_name', 'num_critic_for_reviews', 'duration',\n",
              "       'director_facebook_likes', 'actor_3_facebook_likes', 'actor_2_name',\n",
              "       'actor_1_facebook_likes', 'gross', 'genres', 'actor_1_name',\n",
              "       'movie_title', 'num_voted_users', 'cast_total_facebook_likes',\n",
              "       'actor_3_name', 'facenumber_in_poster', 'plot_keywords',\n",
              "       'movie_imdb_link', 'num_user_for_reviews', 'language', 'country',\n",
              "       'content_rating', 'budget', 'title_year', 'actor_2_facebook_likes',\n",
              "       'imdb_score', 'aspect_ratio', 'movie_facebook_likes'],\n",
              "      dtype='object')"
            ]
          },
          "metadata": {
            "tags": []
          },
          "execution_count": 4
        }
      ]
    },
    {
      "cell_type": "code",
      "metadata": {
        "id": "GPX-Vy3Hh2Wf"
      },
      "source": [
        "df = df[['director_name' ,'actor_1_name','actor_2_name','actor_3_name','genres','movie_title']]"
      ],
      "execution_count": null,
      "outputs": []
    },
    {
      "cell_type": "code",
      "metadata": {
        "colab": {
          "base_uri": "https://localhost:8080/",
          "height": 204
        },
        "id": "E5K8ZVRyHa9E",
        "outputId": "7cf4d66d-9894-48a8-b0c0-eac6fb74411f"
      },
      "source": [
        "df.head()"
      ],
      "execution_count": null,
      "outputs": [
        {
          "output_type": "execute_result",
          "data": {
            "text/html": [
              "<div>\n",
              "<style scoped>\n",
              "    .dataframe tbody tr th:only-of-type {\n",
              "        vertical-align: middle;\n",
              "    }\n",
              "\n",
              "    .dataframe tbody tr th {\n",
              "        vertical-align: top;\n",
              "    }\n",
              "\n",
              "    .dataframe thead th {\n",
              "        text-align: right;\n",
              "    }\n",
              "</style>\n",
              "<table border=\"1\" class=\"dataframe\">\n",
              "  <thead>\n",
              "    <tr style=\"text-align: right;\">\n",
              "      <th></th>\n",
              "      <th>director_name</th>\n",
              "      <th>actor_1_name</th>\n",
              "      <th>actor_2_name</th>\n",
              "      <th>actor_3_name</th>\n",
              "      <th>genres</th>\n",
              "      <th>movie_title</th>\n",
              "    </tr>\n",
              "  </thead>\n",
              "  <tbody>\n",
              "    <tr>\n",
              "      <th>0</th>\n",
              "      <td>James Cameron</td>\n",
              "      <td>CCH Pounder</td>\n",
              "      <td>Joel David Moore</td>\n",
              "      <td>Wes Studi</td>\n",
              "      <td>Action|Adventure|Fantasy|Sci-Fi</td>\n",
              "      <td>Avatar</td>\n",
              "    </tr>\n",
              "    <tr>\n",
              "      <th>1</th>\n",
              "      <td>Gore Verbinski</td>\n",
              "      <td>Johnny Depp</td>\n",
              "      <td>Orlando Bloom</td>\n",
              "      <td>Jack Davenport</td>\n",
              "      <td>Action|Adventure|Fantasy</td>\n",
              "      <td>Pirates of the Caribbean: At World's End</td>\n",
              "    </tr>\n",
              "    <tr>\n",
              "      <th>2</th>\n",
              "      <td>Sam Mendes</td>\n",
              "      <td>Christoph Waltz</td>\n",
              "      <td>Rory Kinnear</td>\n",
              "      <td>Stephanie Sigman</td>\n",
              "      <td>Action|Adventure|Thriller</td>\n",
              "      <td>Spectre</td>\n",
              "    </tr>\n",
              "    <tr>\n",
              "      <th>3</th>\n",
              "      <td>Christopher Nolan</td>\n",
              "      <td>Tom Hardy</td>\n",
              "      <td>Christian Bale</td>\n",
              "      <td>Joseph Gordon-Levitt</td>\n",
              "      <td>Action|Thriller</td>\n",
              "      <td>The Dark Knight Rises</td>\n",
              "    </tr>\n",
              "    <tr>\n",
              "      <th>4</th>\n",
              "      <td>Doug Walker</td>\n",
              "      <td>Doug Walker</td>\n",
              "      <td>Rob Walker</td>\n",
              "      <td>NaN</td>\n",
              "      <td>Documentary</td>\n",
              "      <td>Star Wars: Episode VII - The Force Awakens    ...</td>\n",
              "    </tr>\n",
              "  </tbody>\n",
              "</table>\n",
              "</div>"
            ],
            "text/plain": [
              "       director_name  ...                                        movie_title\n",
              "0      James Cameron  ...                                            Avatar \n",
              "1     Gore Verbinski  ...          Pirates of the Caribbean: At World's End \n",
              "2         Sam Mendes  ...                                           Spectre \n",
              "3  Christopher Nolan  ...                             The Dark Knight Rises \n",
              "4        Doug Walker  ...  Star Wars: Episode VII - The Force Awakens    ...\n",
              "\n",
              "[5 rows x 6 columns]"
            ]
          },
          "metadata": {
            "tags": []
          },
          "execution_count": 6
        }
      ]
    },
    {
      "cell_type": "code",
      "metadata": {
        "colab": {
          "base_uri": "https://localhost:8080/"
        },
        "id": "Ne-rOLM2lS7p",
        "outputId": "ccc6cec6-704f-40c7-d035-59e38970acad"
      },
      "source": [
        "df.isnull().sum()"
      ],
      "execution_count": null,
      "outputs": [
        {
          "output_type": "execute_result",
          "data": {
            "text/plain": [
              "director_name    104\n",
              "actor_1_name       7\n",
              "actor_2_name      13\n",
              "actor_3_name      23\n",
              "genres             0\n",
              "movie_title        0\n",
              "dtype: int64"
            ]
          },
          "metadata": {
            "tags": []
          },
          "execution_count": 7
        }
      ]
    },
    {
      "cell_type": "code",
      "metadata": {
        "id": "oLg2Gc7Wl2v7"
      },
      "source": [
        "import numpy as np \n",
        "for col in df.columns : \n",
        "  df[col].replace(np.nan , 'Unknown',inplace=True)"
      ],
      "execution_count": null,
      "outputs": []
    },
    {
      "cell_type": "code",
      "metadata": {
        "colab": {
          "base_uri": "https://localhost:8080/"
        },
        "id": "1BEiMCQwmTfD",
        "outputId": "e88f9c39-6c9a-4873-aa53-6f48c6bbf5a6"
      },
      "source": [
        "df.isnull().sum()"
      ],
      "execution_count": null,
      "outputs": [
        {
          "output_type": "execute_result",
          "data": {
            "text/plain": [
              "director_name    0\n",
              "actor_1_name     0\n",
              "actor_2_name     0\n",
              "actor_3_name     0\n",
              "genres           0\n",
              "movie_title      0\n",
              "dtype: int64"
            ]
          },
          "metadata": {
            "tags": []
          },
          "execution_count": 9
        }
      ]
    },
    {
      "cell_type": "code",
      "metadata": {
        "colab": {
          "base_uri": "https://localhost:8080/",
          "height": 35
        },
        "id": "VN4mn70CmX3Z",
        "outputId": "88b97e09-9b39-4d41-bcdc-fdb0676bf227"
      },
      "source": [
        "df['movie_title'][1]"
      ],
      "execution_count": null,
      "outputs": [
        {
          "output_type": "execute_result",
          "data": {
            "application/vnd.google.colaboratory.intrinsic+json": {
              "type": "string"
            },
            "text/plain": [
              "\"Pirates of the Caribbean: At World's End\\xa0\""
            ]
          },
          "metadata": {
            "tags": []
          },
          "execution_count": 10
        }
      ]
    },
    {
      "cell_type": "code",
      "metadata": {
        "id": "zZg5UOG2mYy2"
      },
      "source": [
        "###### remooving \\xa0\n",
        "\n",
        "def remove_end(ch) : \n",
        "  l = list(ch)\n",
        "  del l [-1]\n",
        "  ch = ''\n",
        "  for car in l : \n",
        "    ch += car\n",
        "  return ch \n",
        "\n",
        "###### or\n",
        "def remouve_end2(ch) : \n",
        "  return ch.replace(ch[-1] , '')\n"
      ],
      "execution_count": null,
      "outputs": []
    },
    {
      "cell_type": "code",
      "metadata": {
        "id": "R-nRPwLoJPAx"
      },
      "source": [
        "df['movie_title'] = df['movie_title'].apply(remove_end )"
      ],
      "execution_count": null,
      "outputs": []
    },
    {
      "cell_type": "code",
      "metadata": {
        "id": "NlfS5iYRpcjO"
      },
      "source": [
        "###### replace | with white space in genres\n",
        "def replacepipe(arg) : \n",
        "  return arg.replace('|' , ' ')"
      ],
      "execution_count": null,
      "outputs": []
    },
    {
      "cell_type": "code",
      "metadata": {
        "id": "_8Vx6rpip9yB"
      },
      "source": [
        "df['genres'] = df['genres'].apply(replacepipe)"
      ],
      "execution_count": null,
      "outputs": []
    },
    {
      "cell_type": "code",
      "metadata": {
        "id": "o5W5-0BnskP0"
      },
      "source": [
        "#### lower case movie title \n",
        "def lower_title(arg) : \n",
        "  return arg.lower()\n",
        "df['movie_title'] = df['movie_title'].apply(lower_title)"
      ],
      "execution_count": null,
      "outputs": []
    },
    {
      "cell_type": "code",
      "metadata": {
        "colab": {
          "base_uri": "https://localhost:8080/",
          "height": 204
        },
        "id": "tMZjqcn80KTt",
        "outputId": "a4311fc7-4670-403b-8a6f-4355f1c49602"
      },
      "source": [
        "df.head()"
      ],
      "execution_count": null,
      "outputs": [
        {
          "output_type": "execute_result",
          "data": {
            "text/html": [
              "<div>\n",
              "<style scoped>\n",
              "    .dataframe tbody tr th:only-of-type {\n",
              "        vertical-align: middle;\n",
              "    }\n",
              "\n",
              "    .dataframe tbody tr th {\n",
              "        vertical-align: top;\n",
              "    }\n",
              "\n",
              "    .dataframe thead th {\n",
              "        text-align: right;\n",
              "    }\n",
              "</style>\n",
              "<table border=\"1\" class=\"dataframe\">\n",
              "  <thead>\n",
              "    <tr style=\"text-align: right;\">\n",
              "      <th></th>\n",
              "      <th>director_name</th>\n",
              "      <th>actor_1_name</th>\n",
              "      <th>actor_2_name</th>\n",
              "      <th>actor_3_name</th>\n",
              "      <th>genres</th>\n",
              "      <th>movie_title</th>\n",
              "    </tr>\n",
              "  </thead>\n",
              "  <tbody>\n",
              "    <tr>\n",
              "      <th>0</th>\n",
              "      <td>James Cameron</td>\n",
              "      <td>CCH Pounder</td>\n",
              "      <td>Joel David Moore</td>\n",
              "      <td>Wes Studi</td>\n",
              "      <td>Action Adventure Fantasy Sci-Fi</td>\n",
              "      <td>avatar</td>\n",
              "    </tr>\n",
              "    <tr>\n",
              "      <th>1</th>\n",
              "      <td>Gore Verbinski</td>\n",
              "      <td>Johnny Depp</td>\n",
              "      <td>Orlando Bloom</td>\n",
              "      <td>Jack Davenport</td>\n",
              "      <td>Action Adventure Fantasy</td>\n",
              "      <td>pirates of the caribbean: at world's end</td>\n",
              "    </tr>\n",
              "    <tr>\n",
              "      <th>2</th>\n",
              "      <td>Sam Mendes</td>\n",
              "      <td>Christoph Waltz</td>\n",
              "      <td>Rory Kinnear</td>\n",
              "      <td>Stephanie Sigman</td>\n",
              "      <td>Action Adventure Thriller</td>\n",
              "      <td>spectre</td>\n",
              "    </tr>\n",
              "    <tr>\n",
              "      <th>3</th>\n",
              "      <td>Christopher Nolan</td>\n",
              "      <td>Tom Hardy</td>\n",
              "      <td>Christian Bale</td>\n",
              "      <td>Joseph Gordon-Levitt</td>\n",
              "      <td>Action Thriller</td>\n",
              "      <td>the dark knight rises</td>\n",
              "    </tr>\n",
              "    <tr>\n",
              "      <th>4</th>\n",
              "      <td>Doug Walker</td>\n",
              "      <td>Doug Walker</td>\n",
              "      <td>Rob Walker</td>\n",
              "      <td>Unknown</td>\n",
              "      <td>Documentary</td>\n",
              "      <td>star wars: episode vii - the force awakens    ...</td>\n",
              "    </tr>\n",
              "  </tbody>\n",
              "</table>\n",
              "</div>"
            ],
            "text/plain": [
              "       director_name  ...                                        movie_title\n",
              "0      James Cameron  ...                                             avatar\n",
              "1     Gore Verbinski  ...           pirates of the caribbean: at world's end\n",
              "2         Sam Mendes  ...                                            spectre\n",
              "3  Christopher Nolan  ...                              the dark knight rises\n",
              "4        Doug Walker  ...  star wars: episode vii - the force awakens    ...\n",
              "\n",
              "[5 rows x 6 columns]"
            ]
          },
          "metadata": {
            "tags": []
          },
          "execution_count": 16
        }
      ]
    },
    {
      "cell_type": "code",
      "metadata": {
        "id": "RqwFHbNfKQ-D"
      },
      "source": [
        "df.to_csv('/content/drive/MyDrive/movie/preproccesed/data.csv' ,index= False)"
      ],
      "execution_count": null,
      "outputs": []
    },
    {
      "cell_type": "code",
      "metadata": {
        "id": "iIQ4Iha0PftI"
      },
      "source": [
        "df1 = pd.read_csv('/content/drive/MyDrive/movie/credits.csv')"
      ],
      "execution_count": null,
      "outputs": []
    },
    {
      "cell_type": "code",
      "metadata": {
        "id": "ZcaJ_w-YPjzD",
        "colab": {
          "base_uri": "https://localhost:8080/"
        },
        "outputId": "5371fb94-80c4-4603-c6cd-fd638aa10986"
      },
      "source": [
        "df2 = pd.read_csv('/content/drive/MyDrive/movie/movies_metadata.csv')"
      ],
      "execution_count": null,
      "outputs": [
        {
          "output_type": "stream",
          "text": [
            "/usr/local/lib/python3.6/dist-packages/IPython/core/interactiveshell.py:2718: DtypeWarning: Columns (10) have mixed types.Specify dtype option on import or set low_memory=False.\n",
            "  interactivity=interactivity, compiler=compiler, result=result)\n"
          ],
          "name": "stderr"
        }
      ]
    },
    {
      "cell_type": "code",
      "metadata": {
        "id": "dVVjF8z7Pkgl",
        "colab": {
          "base_uri": "https://localhost:8080/",
          "height": 204
        },
        "outputId": "f6c05904-4477-4d75-8377-b5d680d61ac5"
      },
      "source": [
        "df1.head()"
      ],
      "execution_count": null,
      "outputs": [
        {
          "output_type": "execute_result",
          "data": {
            "text/html": [
              "<div>\n",
              "<style scoped>\n",
              "    .dataframe tbody tr th:only-of-type {\n",
              "        vertical-align: middle;\n",
              "    }\n",
              "\n",
              "    .dataframe tbody tr th {\n",
              "        vertical-align: top;\n",
              "    }\n",
              "\n",
              "    .dataframe thead th {\n",
              "        text-align: right;\n",
              "    }\n",
              "</style>\n",
              "<table border=\"1\" class=\"dataframe\">\n",
              "  <thead>\n",
              "    <tr style=\"text-align: right;\">\n",
              "      <th></th>\n",
              "      <th>cast</th>\n",
              "      <th>crew</th>\n",
              "      <th>id</th>\n",
              "    </tr>\n",
              "  </thead>\n",
              "  <tbody>\n",
              "    <tr>\n",
              "      <th>0</th>\n",
              "      <td>[{'cast_id': 14, 'character': 'Woody (voice)',...</td>\n",
              "      <td>[{'credit_id': '52fe4284c3a36847f8024f49', 'de...</td>\n",
              "      <td>862</td>\n",
              "    </tr>\n",
              "    <tr>\n",
              "      <th>1</th>\n",
              "      <td>[{'cast_id': 1, 'character': 'Alan Parrish', '...</td>\n",
              "      <td>[{'credit_id': '52fe44bfc3a36847f80a7cd1', 'de...</td>\n",
              "      <td>8844</td>\n",
              "    </tr>\n",
              "    <tr>\n",
              "      <th>2</th>\n",
              "      <td>[{'cast_id': 2, 'character': 'Max Goldman', 'c...</td>\n",
              "      <td>[{'credit_id': '52fe466a9251416c75077a89', 'de...</td>\n",
              "      <td>15602</td>\n",
              "    </tr>\n",
              "    <tr>\n",
              "      <th>3</th>\n",
              "      <td>[{'cast_id': 1, 'character': \"Savannah 'Vannah...</td>\n",
              "      <td>[{'credit_id': '52fe44779251416c91011acb', 'de...</td>\n",
              "      <td>31357</td>\n",
              "    </tr>\n",
              "    <tr>\n",
              "      <th>4</th>\n",
              "      <td>[{'cast_id': 1, 'character': 'George Banks', '...</td>\n",
              "      <td>[{'credit_id': '52fe44959251416c75039ed7', 'de...</td>\n",
              "      <td>11862</td>\n",
              "    </tr>\n",
              "  </tbody>\n",
              "</table>\n",
              "</div>"
            ],
            "text/plain": [
              "                                                cast  ...     id\n",
              "0  [{'cast_id': 14, 'character': 'Woody (voice)',...  ...    862\n",
              "1  [{'cast_id': 1, 'character': 'Alan Parrish', '...  ...   8844\n",
              "2  [{'cast_id': 2, 'character': 'Max Goldman', 'c...  ...  15602\n",
              "3  [{'cast_id': 1, 'character': \"Savannah 'Vannah...  ...  31357\n",
              "4  [{'cast_id': 1, 'character': 'George Banks', '...  ...  11862\n",
              "\n",
              "[5 rows x 3 columns]"
            ]
          },
          "metadata": {
            "tags": []
          },
          "execution_count": 20
        }
      ]
    },
    {
      "cell_type": "code",
      "metadata": {
        "colab": {
          "base_uri": "https://localhost:8080/",
          "height": 666
        },
        "id": "ZR9tyW6p9keJ",
        "outputId": "1338cc70-b87e-4c41-e521-f5a4975cab9f"
      },
      "source": [
        "df2.head()"
      ],
      "execution_count": null,
      "outputs": [
        {
          "output_type": "execute_result",
          "data": {
            "text/html": [
              "<div>\n",
              "<style scoped>\n",
              "    .dataframe tbody tr th:only-of-type {\n",
              "        vertical-align: middle;\n",
              "    }\n",
              "\n",
              "    .dataframe tbody tr th {\n",
              "        vertical-align: top;\n",
              "    }\n",
              "\n",
              "    .dataframe thead th {\n",
              "        text-align: right;\n",
              "    }\n",
              "</style>\n",
              "<table border=\"1\" class=\"dataframe\">\n",
              "  <thead>\n",
              "    <tr style=\"text-align: right;\">\n",
              "      <th></th>\n",
              "      <th>adult</th>\n",
              "      <th>belongs_to_collection</th>\n",
              "      <th>budget</th>\n",
              "      <th>genres</th>\n",
              "      <th>homepage</th>\n",
              "      <th>id</th>\n",
              "      <th>imdb_id</th>\n",
              "      <th>original_language</th>\n",
              "      <th>original_title</th>\n",
              "      <th>overview</th>\n",
              "      <th>popularity</th>\n",
              "      <th>poster_path</th>\n",
              "      <th>production_companies</th>\n",
              "      <th>production_countries</th>\n",
              "      <th>release_date</th>\n",
              "      <th>revenue</th>\n",
              "      <th>runtime</th>\n",
              "      <th>spoken_languages</th>\n",
              "      <th>status</th>\n",
              "      <th>tagline</th>\n",
              "      <th>title</th>\n",
              "      <th>video</th>\n",
              "      <th>vote_average</th>\n",
              "      <th>vote_count</th>\n",
              "    </tr>\n",
              "  </thead>\n",
              "  <tbody>\n",
              "    <tr>\n",
              "      <th>0</th>\n",
              "      <td>False</td>\n",
              "      <td>{'id': 10194, 'name': 'Toy Story Collection', ...</td>\n",
              "      <td>30000000</td>\n",
              "      <td>[{'id': 16, 'name': 'Animation'}, {'id': 35, '...</td>\n",
              "      <td>http://toystory.disney.com/toy-story</td>\n",
              "      <td>862</td>\n",
              "      <td>tt0114709</td>\n",
              "      <td>en</td>\n",
              "      <td>Toy Story</td>\n",
              "      <td>Led by Woody, Andy's toys live happily in his ...</td>\n",
              "      <td>21.9469</td>\n",
              "      <td>/rhIRbceoE9lR4veEXuwCC2wARtG.jpg</td>\n",
              "      <td>[{'name': 'Pixar Animation Studios', 'id': 3}]</td>\n",
              "      <td>[{'iso_3166_1': 'US', 'name': 'United States o...</td>\n",
              "      <td>1995-10-30</td>\n",
              "      <td>373554033.0</td>\n",
              "      <td>81.0</td>\n",
              "      <td>[{'iso_639_1': 'en', 'name': 'English'}]</td>\n",
              "      <td>Released</td>\n",
              "      <td>NaN</td>\n",
              "      <td>Toy Story</td>\n",
              "      <td>False</td>\n",
              "      <td>7.7</td>\n",
              "      <td>5415.0</td>\n",
              "    </tr>\n",
              "    <tr>\n",
              "      <th>1</th>\n",
              "      <td>False</td>\n",
              "      <td>NaN</td>\n",
              "      <td>65000000</td>\n",
              "      <td>[{'id': 12, 'name': 'Adventure'}, {'id': 14, '...</td>\n",
              "      <td>NaN</td>\n",
              "      <td>8844</td>\n",
              "      <td>tt0113497</td>\n",
              "      <td>en</td>\n",
              "      <td>Jumanji</td>\n",
              "      <td>When siblings Judy and Peter discover an encha...</td>\n",
              "      <td>17.0155</td>\n",
              "      <td>/vzmL6fP7aPKNKPRTFnZmiUfciyV.jpg</td>\n",
              "      <td>[{'name': 'TriStar Pictures', 'id': 559}, {'na...</td>\n",
              "      <td>[{'iso_3166_1': 'US', 'name': 'United States o...</td>\n",
              "      <td>1995-12-15</td>\n",
              "      <td>262797249.0</td>\n",
              "      <td>104.0</td>\n",
              "      <td>[{'iso_639_1': 'en', 'name': 'English'}, {'iso...</td>\n",
              "      <td>Released</td>\n",
              "      <td>Roll the dice and unleash the excitement!</td>\n",
              "      <td>Jumanji</td>\n",
              "      <td>False</td>\n",
              "      <td>6.9</td>\n",
              "      <td>2413.0</td>\n",
              "    </tr>\n",
              "    <tr>\n",
              "      <th>2</th>\n",
              "      <td>False</td>\n",
              "      <td>{'id': 119050, 'name': 'Grumpy Old Men Collect...</td>\n",
              "      <td>0</td>\n",
              "      <td>[{'id': 10749, 'name': 'Romance'}, {'id': 35, ...</td>\n",
              "      <td>NaN</td>\n",
              "      <td>15602</td>\n",
              "      <td>tt0113228</td>\n",
              "      <td>en</td>\n",
              "      <td>Grumpier Old Men</td>\n",
              "      <td>A family wedding reignites the ancient feud be...</td>\n",
              "      <td>11.7129</td>\n",
              "      <td>/6ksm1sjKMFLbO7UY2i6G1ju9SML.jpg</td>\n",
              "      <td>[{'name': 'Warner Bros.', 'id': 6194}, {'name'...</td>\n",
              "      <td>[{'iso_3166_1': 'US', 'name': 'United States o...</td>\n",
              "      <td>1995-12-22</td>\n",
              "      <td>0.0</td>\n",
              "      <td>101.0</td>\n",
              "      <td>[{'iso_639_1': 'en', 'name': 'English'}]</td>\n",
              "      <td>Released</td>\n",
              "      <td>Still Yelling. Still Fighting. Still Ready for...</td>\n",
              "      <td>Grumpier Old Men</td>\n",
              "      <td>False</td>\n",
              "      <td>6.5</td>\n",
              "      <td>92.0</td>\n",
              "    </tr>\n",
              "    <tr>\n",
              "      <th>3</th>\n",
              "      <td>False</td>\n",
              "      <td>NaN</td>\n",
              "      <td>16000000</td>\n",
              "      <td>[{'id': 35, 'name': 'Comedy'}, {'id': 18, 'nam...</td>\n",
              "      <td>NaN</td>\n",
              "      <td>31357</td>\n",
              "      <td>tt0114885</td>\n",
              "      <td>en</td>\n",
              "      <td>Waiting to Exhale</td>\n",
              "      <td>Cheated on, mistreated and stepped on, the wom...</td>\n",
              "      <td>3.85949</td>\n",
              "      <td>/16XOMpEaLWkrcPqSQqhTmeJuqQl.jpg</td>\n",
              "      <td>[{'name': 'Twentieth Century Fox Film Corporat...</td>\n",
              "      <td>[{'iso_3166_1': 'US', 'name': 'United States o...</td>\n",
              "      <td>1995-12-22</td>\n",
              "      <td>81452156.0</td>\n",
              "      <td>127.0</td>\n",
              "      <td>[{'iso_639_1': 'en', 'name': 'English'}]</td>\n",
              "      <td>Released</td>\n",
              "      <td>Friends are the people who let you be yourself...</td>\n",
              "      <td>Waiting to Exhale</td>\n",
              "      <td>False</td>\n",
              "      <td>6.1</td>\n",
              "      <td>34.0</td>\n",
              "    </tr>\n",
              "    <tr>\n",
              "      <th>4</th>\n",
              "      <td>False</td>\n",
              "      <td>{'id': 96871, 'name': 'Father of the Bride Col...</td>\n",
              "      <td>0</td>\n",
              "      <td>[{'id': 35, 'name': 'Comedy'}]</td>\n",
              "      <td>NaN</td>\n",
              "      <td>11862</td>\n",
              "      <td>tt0113041</td>\n",
              "      <td>en</td>\n",
              "      <td>Father of the Bride Part II</td>\n",
              "      <td>Just when George Banks has recovered from his ...</td>\n",
              "      <td>8.38752</td>\n",
              "      <td>/e64sOI48hQXyru7naBFyssKFxVd.jpg</td>\n",
              "      <td>[{'name': 'Sandollar Productions', 'id': 5842}...</td>\n",
              "      <td>[{'iso_3166_1': 'US', 'name': 'United States o...</td>\n",
              "      <td>1995-02-10</td>\n",
              "      <td>76578911.0</td>\n",
              "      <td>106.0</td>\n",
              "      <td>[{'iso_639_1': 'en', 'name': 'English'}]</td>\n",
              "      <td>Released</td>\n",
              "      <td>Just When His World Is Back To Normal... He's ...</td>\n",
              "      <td>Father of the Bride Part II</td>\n",
              "      <td>False</td>\n",
              "      <td>5.7</td>\n",
              "      <td>173.0</td>\n",
              "    </tr>\n",
              "  </tbody>\n",
              "</table>\n",
              "</div>"
            ],
            "text/plain": [
              "   adult  ... vote_count\n",
              "0  False  ...     5415.0\n",
              "1  False  ...     2413.0\n",
              "2  False  ...       92.0\n",
              "3  False  ...       34.0\n",
              "4  False  ...      173.0\n",
              "\n",
              "[5 rows x 24 columns]"
            ]
          },
          "metadata": {
            "tags": []
          },
          "execution_count": 21
        }
      ]
    },
    {
      "cell_type": "code",
      "metadata": {
        "id": "SZX8aJD09lzE"
      },
      "source": [
        "df2['year'] = pd.to_datetime(df2.release_date ,errors='coerce').dt.year"
      ],
      "execution_count": null,
      "outputs": []
    },
    {
      "cell_type": "code",
      "metadata": {
        "id": "U_7qxl6D9-rX",
        "colab": {
          "base_uri": "https://localhost:8080/"
        },
        "outputId": "36836e42-8406-4780-e057-450a5b6304ea"
      },
      "source": [
        "df2.columns"
      ],
      "execution_count": null,
      "outputs": [
        {
          "output_type": "execute_result",
          "data": {
            "text/plain": [
              "Index(['adult', 'belongs_to_collection', 'budget', 'genres', 'homepage', 'id',\n",
              "       'imdb_id', 'original_language', 'original_title', 'overview',\n",
              "       'popularity', 'poster_path', 'production_companies',\n",
              "       'production_countries', 'release_date', 'revenue', 'runtime',\n",
              "       'spoken_languages', 'status', 'tagline', 'title', 'video',\n",
              "       'vote_average', 'vote_count', 'year'],\n",
              "      dtype='object')"
            ]
          },
          "metadata": {
            "tags": []
          },
          "execution_count": 24
        }
      ]
    },
    {
      "cell_type": "code",
      "metadata": {
        "id": "NHk22Kcc1Dxc"
      },
      "source": [
        "df2= df2.iloc[: , [3,5,20 , -1]]\n",
        "\n",
        "# extracting genre , year , id and title "
      ],
      "execution_count": null,
      "outputs": []
    },
    {
      "cell_type": "code",
      "metadata": {
        "id": "xZ28Geud1x4j"
      },
      "source": [
        "df2 = df2[df2.year == 2017.0]\n",
        "\n",
        "#selecting year 2017 because it missing in df [1800-2016]"
      ],
      "execution_count": null,
      "outputs": []
    },
    {
      "cell_type": "code",
      "metadata": {
        "id": "wap-0hovCOs1"
      },
      "source": [
        "df2['id'] = df2['id'].astype(int)\n",
        "\n",
        "# transforming id to int to merge it with df1"
      ],
      "execution_count": null,
      "outputs": []
    },
    {
      "cell_type": "code",
      "metadata": {
        "id": "t79P8Yok1_zI"
      },
      "source": [
        "df3 = pd.merge(df2 , df1 , on = 'id')"
      ],
      "execution_count": null,
      "outputs": []
    },
    {
      "cell_type": "code",
      "metadata": {
        "colab": {
          "base_uri": "https://localhost:8080/"
        },
        "id": "3spYCsj3CiA2",
        "outputId": "d8e00451-4df9-4b6c-da96-11a4269bb5c5"
      },
      "source": [
        "df3.columns"
      ],
      "execution_count": null,
      "outputs": [
        {
          "output_type": "execute_result",
          "data": {
            "text/plain": [
              "Index(['genres', 'id', 'title', 'year', 'cast', 'crew'], dtype='object')"
            ]
          },
          "metadata": {
            "tags": []
          },
          "execution_count": 36
        }
      ]
    },
    {
      "cell_type": "code",
      "metadata": {
        "colab": {
          "base_uri": "https://localhost:8080/",
          "height": 289
        },
        "id": "khHL64Ej2FRP",
        "outputId": "3b647acc-b15f-4461-828a-c1e4dc4786e5"
      },
      "source": [
        "df3.head()"
      ],
      "execution_count": null,
      "outputs": [
        {
          "output_type": "execute_result",
          "data": {
            "text/html": [
              "<div>\n",
              "<style scoped>\n",
              "    .dataframe tbody tr th:only-of-type {\n",
              "        vertical-align: middle;\n",
              "    }\n",
              "\n",
              "    .dataframe tbody tr th {\n",
              "        vertical-align: top;\n",
              "    }\n",
              "\n",
              "    .dataframe thead th {\n",
              "        text-align: right;\n",
              "    }\n",
              "</style>\n",
              "<table border=\"1\" class=\"dataframe\">\n",
              "  <thead>\n",
              "    <tr style=\"text-align: right;\">\n",
              "      <th></th>\n",
              "      <th>genres</th>\n",
              "      <th>id</th>\n",
              "      <th>title</th>\n",
              "      <th>year</th>\n",
              "      <th>cast</th>\n",
              "      <th>crew</th>\n",
              "    </tr>\n",
              "  </thead>\n",
              "  <tbody>\n",
              "    <tr>\n",
              "      <th>0</th>\n",
              "      <td>[{'id': 12, 'name': 'Adventure'}, {'id': 28, '...</td>\n",
              "      <td>166426</td>\n",
              "      <td>Pirates of the Caribbean: Dead Men Tell No Tales</td>\n",
              "      <td>2017.0</td>\n",
              "      <td>[{'cast_id': 1, 'character': 'Captain Jack Spa...</td>\n",
              "      <td>[{'credit_id': '52fe4c9cc3a36847f8236a65', 'de...</td>\n",
              "    </tr>\n",
              "    <tr>\n",
              "      <th>1</th>\n",
              "      <td>[{'id': 28, 'name': 'Action'}, {'id': 12, 'nam...</td>\n",
              "      <td>141052</td>\n",
              "      <td>Justice League</td>\n",
              "      <td>2017.0</td>\n",
              "      <td>[{'cast_id': 2, 'character': 'Bruce Wayne / Ba...</td>\n",
              "      <td>[{'credit_id': '55ef66dbc3a3686f1700a52d', 'de...</td>\n",
              "    </tr>\n",
              "    <tr>\n",
              "      <th>2</th>\n",
              "      <td>[{'id': 28, 'name': 'Action'}, {'id': 12, 'nam...</td>\n",
              "      <td>284053</td>\n",
              "      <td>Thor: Ragnarok</td>\n",
              "      <td>2017.0</td>\n",
              "      <td>[{'cast_id': 0, 'character': 'Thor Odinson', '...</td>\n",
              "      <td>[{'credit_id': '56a93fa4c3a36872db001e7a', 'de...</td>\n",
              "    </tr>\n",
              "    <tr>\n",
              "      <th>3</th>\n",
              "      <td>[{'id': 28, 'name': 'Action'}, {'id': 12, 'nam...</td>\n",
              "      <td>283995</td>\n",
              "      <td>Guardians of the Galaxy Vol. 2</td>\n",
              "      <td>2017.0</td>\n",
              "      <td>[{'cast_id': 3, 'character': 'Peter Quill / St...</td>\n",
              "      <td>[{'credit_id': '59171547925141583c0315a6', 'de...</td>\n",
              "    </tr>\n",
              "    <tr>\n",
              "      <th>4</th>\n",
              "      <td>[{'id': 14, 'name': 'Fantasy'}, {'id': 28, 'na...</td>\n",
              "      <td>245842</td>\n",
              "      <td>The King's Daughter</td>\n",
              "      <td>2017.0</td>\n",
              "      <td>[{'cast_id': 0, 'character': 'King Louis XIV',...</td>\n",
              "      <td>[{'credit_id': '5431de49c3a36825d300007e', 'de...</td>\n",
              "    </tr>\n",
              "  </tbody>\n",
              "</table>\n",
              "</div>"
            ],
            "text/plain": [
              "                                              genres  ...                                               crew\n",
              "0  [{'id': 12, 'name': 'Adventure'}, {'id': 28, '...  ...  [{'credit_id': '52fe4c9cc3a36847f8236a65', 'de...\n",
              "1  [{'id': 28, 'name': 'Action'}, {'id': 12, 'nam...  ...  [{'credit_id': '55ef66dbc3a3686f1700a52d', 'de...\n",
              "2  [{'id': 28, 'name': 'Action'}, {'id': 12, 'nam...  ...  [{'credit_id': '56a93fa4c3a36872db001e7a', 'de...\n",
              "3  [{'id': 28, 'name': 'Action'}, {'id': 12, 'nam...  ...  [{'credit_id': '59171547925141583c0315a6', 'de...\n",
              "4  [{'id': 14, 'name': 'Fantasy'}, {'id': 28, 'na...  ...  [{'credit_id': '5431de49c3a36825d300007e', 'de...\n",
              "\n",
              "[5 rows x 6 columns]"
            ]
          },
          "metadata": {
            "tags": []
          },
          "execution_count": 37
        }
      ]
    },
    {
      "cell_type": "code",
      "metadata": {
        "id": "hG833irfDSQe"
      },
      "source": [
        "import ast\n",
        "df3['genres'] = df3['genres'].map(lambda x: ast.literal_eval(x))\n",
        "df3['cast'] = df3['cast'].map(lambda x: ast.literal_eval(x))\n",
        "df3['crew'] = df3['crew'].map(lambda x: ast.literal_eval(x))"
      ],
      "execution_count": null,
      "outputs": []
    },
    {
      "cell_type": "code",
      "metadata": {
        "colab": {
          "base_uri": "https://localhost:8080/"
        },
        "id": "nmN5IeDJxv72",
        "outputId": "a38d10d5-c761-4626-edbc-b733550c4cdf"
      },
      "source": [
        "df3.genres[0]"
      ],
      "execution_count": null,
      "outputs": [
        {
          "output_type": "execute_result",
          "data": {
            "text/plain": [
              "[{'id': 12, 'name': 'Adventure'},\n",
              " {'id': 28, 'name': 'Action'},\n",
              " {'id': 14, 'name': 'Fantasy'},\n",
              " {'id': 35, 'name': 'Comedy'}]"
            ]
          },
          "metadata": {
            "tags": []
          },
          "execution_count": 46
        }
      ]
    },
    {
      "cell_type": "code",
      "metadata": {
        "id": "111wA0TIXUc7"
      },
      "source": [
        "\n",
        "def make_genresList(x):\n",
        "    gen = []\n",
        "    st = \" \"\n",
        "    for i in x:\n",
        "        if i.get('name') == 'Science Fiction':\n",
        "            scifi = 'Sci-Fi'\n",
        "            gen.append(scifi)\n",
        "        else:\n",
        "            gen.append(i.get('name'))\n",
        "    if gen == []:\n",
        "        return np.NaN\n",
        "    else:\n",
        "        return (st.join(gen))\n",
        "      \n"
      ],
      "execution_count": null,
      "outputs": []
    },
    {
      "cell_type": "code",
      "metadata": {
        "id": "BTsmCR8FYuew"
      },
      "source": [
        "df3['genres_list'] = df3['genres'].map(lambda x: make_genresList(x))\n"
      ],
      "execution_count": null,
      "outputs": []
    },
    {
      "cell_type": "code",
      "metadata": {
        "id": "OpvFaTNAYz9z",
        "colab": {
          "base_uri": "https://localhost:8080/"
        },
        "outputId": "13e91847-7166-48be-cadb-a913c895a545"
      },
      "source": [
        "df3['genres_list']\n"
      ],
      "execution_count": null,
      "outputs": [
        {
          "output_type": "execute_result",
          "data": {
            "text/plain": [
              "0      Adventure Action Fantasy Comedy\n",
              "1      Action Adventure Fantasy Sci-Fi\n",
              "2      Action Adventure Fantasy Sci-Fi\n",
              "3       Action Adventure Comedy Sci-Fi\n",
              "4             Fantasy Action Adventure\n",
              "                    ...               \n",
              "526                     Romance Comedy\n",
              "527         Crime Comedy Action Family\n",
              "528    Family Animation Romance Comedy\n",
              "529               Crime Drama Thriller\n",
              "530                                NaN\n",
              "Name: genres_list, Length: 531, dtype: object"
            ]
          },
          "metadata": {
            "tags": []
          },
          "execution_count": 52
        }
      ]
    },
    {
      "cell_type": "code",
      "metadata": {
        "colab": {
          "base_uri": "https://localhost:8080/"
        },
        "id": "dMa2XTVKH7JG",
        "outputId": "22a87662-afba-42a9-8521-a56f045affd5"
      },
      "source": [
        "df3.cast[0]"
      ],
      "execution_count": null,
      "outputs": [
        {
          "output_type": "execute_result",
          "data": {
            "text/plain": [
              "[{'cast_id': 1,\n",
              "  'character': 'Captain Jack Sparrow',\n",
              "  'credit_id': '52fe4c9cc3a36847f8236a53',\n",
              "  'gender': 2,\n",
              "  'id': 85,\n",
              "  'name': 'Johnny Depp',\n",
              "  'order': 0,\n",
              "  'profile_path': '/kbWValANhZI8rbWZXximXuMN4UN.jpg'},\n",
              " {'cast_id': 9,\n",
              "  'character': 'Captain Armando Salazar',\n",
              "  'credit_id': '54db4949c3a368122d0017fe',\n",
              "  'gender': 2,\n",
              "  'id': 3810,\n",
              "  'name': 'Javier Bardem',\n",
              "  'order': 1,\n",
              "  'profile_path': '/grBOK7Ep09JBE3H5LyV5JaZZ1XZ.jpg'},\n",
              " {'cast_id': 16,\n",
              "  'character': 'Captain Hector Barbossa',\n",
              "  'credit_id': '54e44e5ec3a368454b00a02f',\n",
              "  'gender': 2,\n",
              "  'id': 118,\n",
              "  'name': 'Geoffrey Rush',\n",
              "  'order': 2,\n",
              "  'profile_path': '/5h91WHSK80YtqTk1bMiar2IZzO2.jpg'},\n",
              " {'cast_id': 7,\n",
              "  'character': 'Henry Turner',\n",
              "  'credit_id': '54db49359251415a0d0012a0',\n",
              "  'gender': 2,\n",
              "  'id': 1017347,\n",
              "  'name': 'Brenton Thwaites',\n",
              "  'order': 3,\n",
              "  'profile_path': '/dM0m0OxREfW4HxwV2qQeitS8dfO.jpg'},\n",
              " {'cast_id': 8,\n",
              "  'character': 'Carina Smyth',\n",
              "  'credit_id': '54db493e925141618f00189a',\n",
              "  'gender': 1,\n",
              "  'id': 115150,\n",
              "  'name': 'Kaya Scodelario',\n",
              "  'order': 4,\n",
              "  'profile_path': '/iTrPnn7oS96k0iWPzNxaKCNutB6.jpg'},\n",
              " {'cast_id': 14,\n",
              "  'character': 'Joshamee Gibbs',\n",
              "  'credit_id': '54e44e31c3a368087b004b56',\n",
              "  'gender': 2,\n",
              "  'id': 2449,\n",
              "  'name': 'Kevin McNally',\n",
              "  'order': 5,\n",
              "  'profile_path': '/fIJF3TZn8ckHkcl44oX77GvPv9e.jpg'},\n",
              " {'cast_id': 15,\n",
              "  'character': 'Scrum',\n",
              "  'credit_id': '54e44e4fc3a3684897002c08',\n",
              "  'gender': 2,\n",
              "  'id': 1115,\n",
              "  'name': 'Stephen Graham',\n",
              "  'order': 6,\n",
              "  'profile_path': '/81VZiCA6w8nXG0UjqXCgSJare5N.jpg'},\n",
              " {'cast_id': 28,\n",
              "  'character': 'Scarfield',\n",
              "  'credit_id': '57f68ea49251413616007300',\n",
              "  'gender': 2,\n",
              "  'id': 1371,\n",
              "  'name': 'David Wenham',\n",
              "  'order': 7,\n",
              "  'profile_path': '/xDUXLTF5i2fYx7eSEAR3IdaUb9y.jpg'},\n",
              " {'cast_id': 13,\n",
              "  'character': 'Shansa',\n",
              "  'credit_id': '54e44e0cc3a3685756009e87',\n",
              "  'gender': 1,\n",
              "  'id': 229932,\n",
              "  'name': 'Golshifteh Farahani',\n",
              "  'order': 8,\n",
              "  'profile_path': '/lbsd2lAIQq4egOUXDIfjhte12vv.jpg'},\n",
              " {'cast_id': 17,\n",
              "  'character': 'Will Turner',\n",
              "  'credit_id': '554768e292514119e00065f8',\n",
              "  'gender': 2,\n",
              "  'id': 114,\n",
              "  'name': 'Orlando Bloom',\n",
              "  'order': 9,\n",
              "  'profile_path': '/kKWJlX2tcjqceSfUxnV7Jle5Kt.jpg'},\n",
              " {'cast_id': 18,\n",
              "  'character': 'Marty',\n",
              "  'credit_id': '554769499251411147001bcb',\n",
              "  'gender': 2,\n",
              "  'id': 4030,\n",
              "  'name': 'Martin Klebba',\n",
              "  'order': 10,\n",
              "  'profile_path': '/amlhUrXQ7t1NEPajdj2dQdbC0rt.jpg'},\n",
              " {'cast_id': 23,\n",
              "  'character': 'Mullroy',\n",
              "  'credit_id': '57e2922bc3a36808b900c1a3',\n",
              "  'gender': 2,\n",
              "  'id': 1714,\n",
              "  'name': 'Angus Barnett',\n",
              "  'order': 11,\n",
              "  'profile_path': '/usYsWRccdM4Y00RycsQFFOdNVe.jpg'},\n",
              " {'cast_id': 19,\n",
              "  'character': 'Cremble',\n",
              "  'credit_id': '55476961c3a3680ce80091da',\n",
              "  'gender': 0,\n",
              "  'id': 1193833,\n",
              "  'name': 'Adam Brown',\n",
              "  'order': 12,\n",
              "  'profile_path': '/54iHvIA8ZTNfvKpb2ZxRY73A5MZ.jpg'},\n",
              " {'cast_id': 38,\n",
              "  'character': 'Bollard',\n",
              "  'credit_id': '57f68ea7925141360100754f',\n",
              "  'gender': 0,\n",
              "  'id': 1355191,\n",
              "  'name': 'Danny Kirrane',\n",
              "  'order': 13,\n",
              "  'profile_path': '/vn4NIHMJb0Sf39MOP3cgMdk2N8h.jpg'},\n",
              " {'cast_id': 22,\n",
              "  'character': 'Murtogg',\n",
              "  'credit_id': '57e29210c3a3680a110056ca',\n",
              "  'gender': 0,\n",
              "  'id': 1713,\n",
              "  'name': 'Giles New',\n",
              "  'order': 14,\n",
              "  'profile_path': '/e0Ap9fkLAFcxLVHpK8KH2TQV3wI.jpg'},\n",
              " {'cast_id': 84,\n",
              "  'character': 'Pike',\n",
              "  'credit_id': '591f7a46c3a368723d03b63b',\n",
              "  'gender': 0,\n",
              "  'id': 1819920,\n",
              "  'name': 'Delroy Atkinson',\n",
              "  'order': 15,\n",
              "  'profile_path': '/XcMnuXUPLNYzRL58s5TKPUFq2g.jpg'},\n",
              " {'cast_id': 21,\n",
              "  'character': 'Uncle Jack',\n",
              "  'credit_id': '57e291cf92514118f700625d',\n",
              "  'gender': 2,\n",
              "  'id': 10215,\n",
              "  'name': 'Paul McCartney',\n",
              "  'order': 16,\n",
              "  'profile_path': '/v7FagbD9EY4MVUtcrk9ESjPWV7q.jpg'},\n",
              " {'cast_id': 43,\n",
              "  'character': 'Elizabeth Swann',\n",
              "  'credit_id': '58f708cf9251415dec00953a',\n",
              "  'gender': 1,\n",
              "  'id': 116,\n",
              "  'name': 'Keira Knightley',\n",
              "  'order': 17,\n",
              "  'profile_path': '/rv6quYbTgFTmBAoePwy5xuurW3g.jpg'},\n",
              " {'cast_id': 91,\n",
              "  'character': 'Young Jack Sparrow',\n",
              "  'credit_id': '59338b3dc3a3685a35016ca6',\n",
              "  'gender': 0,\n",
              "  'id': 1772106,\n",
              "  'name': 'Anthony De La Torre',\n",
              "  'order': 18,\n",
              "  'profile_path': '/sgtspl6fcAuhPo4wKYkzlzSgvmg.jpg'},\n",
              " {'cast_id': 92,\n",
              "  'character': 'Young Henry Turner',\n",
              "  'credit_id': '59338b66c3a36859de01633a',\n",
              "  'gender': 2,\n",
              "  'id': 1828139,\n",
              "  'name': 'Lewis McGowan',\n",
              "  'order': 19,\n",
              "  'profile_path': '/27pyhArCRR8ZqIyiak9c0N0l1nz.jpg'},\n",
              " {'cast_id': 85,\n",
              "  'character': 'Lieutenant Lesaro',\n",
              "  'credit_id': '591f7a8cc3a368799b037a0a',\n",
              "  'gender': 2,\n",
              "  'id': 1089049,\n",
              "  'name': 'Juan Carlos Vellido',\n",
              "  'order': 20,\n",
              "  'profile_path': '/m1GEfFgcDNPTCTGUhrita7d5ec1.jpg'},\n",
              " {'cast_id': 86,\n",
              "  'character': 'Officer Madga',\n",
              "  'credit_id': '591f7acc925141482f039128',\n",
              "  'gender': 0,\n",
              "  'id': 1530814,\n",
              "  'name': 'Rodney Afif',\n",
              "  'order': 21,\n",
              "  'profile_path': '/wr1gTOcRcyKO4fYlUwsPLRlP7bn.jpg'},\n",
              " {'cast_id': 87,\n",
              "  'character': 'Mayor Dix',\n",
              "  'credit_id': '591f7ae1c3a3687a64039857',\n",
              "  'gender': 2,\n",
              "  'id': 27752,\n",
              "  'name': 'Bruce Spence',\n",
              "  'order': 22,\n",
              "  'profile_path': '/pwJJBmO9MG3OxVX9efGrB6BTFyw.jpg'},\n",
              " {'cast_id': 31,\n",
              "  'character': \"Mayor's Wife\",\n",
              "  'credit_id': '57f68ea5c3a3681607006e8c',\n",
              "  'gender': 1,\n",
              "  'id': 61914,\n",
              "  'name': 'Zoe Ventoura',\n",
              "  'order': 23,\n",
              "  'profile_path': '/fMBiXCtCTqpEmjAfTVC3NssVMCk.jpg'},\n",
              " {'cast_id': 33,\n",
              "  'character': 'Maddox',\n",
              "  'credit_id': '57f68ea6c3a3681607006e8e',\n",
              "  'gender': 2,\n",
              "  'id': 1112872,\n",
              "  'name': 'James Mackay',\n",
              "  'order': 24,\n",
              "  'profile_path': '/nJPYaP94wXwh1bYnFzkQh1BB30l.jpg'},\n",
              " {'cast_id': 51,\n",
              "  'character': 'Upper Class Lady',\n",
              "  'credit_id': '591293c59251414edb04e228',\n",
              "  'gender': 1,\n",
              "  'id': 1813772,\n",
              "  'name': 'Brooke Chamberlain',\n",
              "  'order': 25,\n",
              "  'profile_path': '/vYqTEUUY4EG6jPzP5wnZNhy4aAy.jpg'},\n",
              " {'cast_id': 45,\n",
              "  'character': 'Young Captain Teague',\n",
              "  'credit_id': '5912926dc3a368646b0521a2',\n",
              "  'gender': 2,\n",
              "  'id': 16811,\n",
              "  'name': 'Alexander Scheer',\n",
              "  'order': 26,\n",
              "  'profile_path': '/f6eWj5VEMBb3O3aviqgMoujM3kf.jpg'},\n",
              " {'cast_id': 32,\n",
              "  'character': 'Pirate Broom',\n",
              "  'credit_id': '57f68ea5925141360d007429',\n",
              "  'gender': 0,\n",
              "  'id': 61784,\n",
              "  'name': 'Goran D. Kleut',\n",
              "  'order': 27,\n",
              "  'profile_path': '/ikAVxzlgo4bXQWn4GpoFfDrgnth.jpg'},\n",
              " {'cast_id': 40,\n",
              "  'character': 'Pirate',\n",
              "  'credit_id': '57f68ea892514136130074b0',\n",
              "  'gender': 0,\n",
              "  'id': 1535048,\n",
              "  'name': 'Wassim Hawat',\n",
              "  'order': 28,\n",
              "  'profile_path': '/yTJCBoDa1OKt7h6JDKYaZnlLqeA.jpg'},\n",
              " {'cast_id': 37,\n",
              "  'character': 'British Executioner',\n",
              "  'credit_id': '57f68ea7925141360100754d',\n",
              "  'gender': 0,\n",
              "  'id': 1394235,\n",
              "  'name': \"Ben O'Toole\",\n",
              "  'order': 29,\n",
              "  'profile_path': '/f9cCCp1PlRZo4sWdwppHTeOC8kZ.jpg'},\n",
              " {'cast_id': 42,\n",
              "  'character': 'Young Pirate Jeff',\n",
              "  'credit_id': '57f68ea8c3a368161c007391',\n",
              "  'gender': 2,\n",
              "  'id': 1690240,\n",
              "  'name': 'Finn Ireland',\n",
              "  'order': 30,\n",
              "  'profile_path': '/x1IZJZLFHboPhZbdycZcNo2kZoM.jpg'},\n",
              " {'cast_id': 44,\n",
              "  'character': 'Spanish Officer',\n",
              "  'credit_id': '59129248c3a36864ec048639',\n",
              "  'gender': 0,\n",
              "  'id': 1414764,\n",
              "  'name': 'Nico Cortez',\n",
              "  'order': 31,\n",
              "  'profile_path': '/ujk9vAlutbLUe9VbjPE6RDuQqVC.jpg'},\n",
              " {'cast_id': 49,\n",
              "  'character': 'Young Greenhorn',\n",
              "  'credit_id': '591293549251414eca04accf',\n",
              "  'gender': 0,\n",
              "  'id': 1394227,\n",
              "  'name': 'James Fraser',\n",
              "  'order': 32,\n",
              "  'profile_path': '/4lcpUIRwFVmPkkxUvYdUNSQQddc.jpg'},\n",
              " {'cast_id': 115,\n",
              "  'character': 'Woman',\n",
              "  'credit_id': '59c783a3c3a368140305a3f1',\n",
              "  'gender': 0,\n",
              "  'id': 1499792,\n",
              "  'name': 'Derani Scarr',\n",
              "  'order': 33,\n",
              "  'profile_path': '/aob0mfWTaJaUlHDVef2dA7Dlwhc.jpg'},\n",
              " {'cast_id': 93,\n",
              "  'character': 'Grimes',\n",
              "  'credit_id': '5999d18a9251414a18001dd4',\n",
              "  'gender': 0,\n",
              "  'id': 126200,\n",
              "  'name': 'Robert Morgan',\n",
              "  'order': 34,\n",
              "  'profile_path': '/8sFiiilQmp2jvLKn6h5QPchA5Gq.jpg'},\n",
              " {'cast_id': 94,\n",
              "  'character': 'Pirate with Broom',\n",
              "  'credit_id': '59a67afe9251411293009e0c',\n",
              "  'gender': 0,\n",
              "  'id': 61784,\n",
              "  'name': 'Goran D. Kleut',\n",
              "  'order': 35,\n",
              "  'profile_path': '/ikAVxzlgo4bXQWn4GpoFfDrgnth.jpg'},\n",
              " {'cast_id': 29,\n",
              "  'character': 'Spanish Soldier',\n",
              "  'credit_id': '57f68ea5925141360100754a',\n",
              "  'gender': 2,\n",
              "  'id': 1386458,\n",
              "  'name': 'Mahesh Jadu',\n",
              "  'order': 36,\n",
              "  'profile_path': '/gfcZiYji4x3tjGQq7vTK8goz40D.jpg'},\n",
              " {'cast_id': 34,\n",
              "  'character': 'British Soldier',\n",
              "  'credit_id': '57f68ea692514136130074ae',\n",
              "  'gender': 0,\n",
              "  'id': 1394427,\n",
              "  'name': 'Travis Jeffery',\n",
              "  'order': 37,\n",
              "  'profile_path': '/lOR40uoh60aKx3ORArhKBQAaBO6.jpg'},\n",
              " {'cast_id': 111,\n",
              "  'character': 'British Soldier',\n",
              "  'credit_id': '59c77df0c3a36813ed057ad8',\n",
              "  'gender': 0,\n",
              "  'id': 1205492,\n",
              "  'name': 'Akos Armont',\n",
              "  'order': 38,\n",
              "  'profile_path': '/t0nRw07H8aXtzz7az5yjDSZwVVg.jpg'},\n",
              " {'cast_id': 104,\n",
              "  'character': 'British Soldier',\n",
              "  'credit_id': '59c6c742c3a368141e044fa3',\n",
              "  'gender': 0,\n",
              "  'id': 1533328,\n",
              "  'name': 'Sean Lynch',\n",
              "  'order': 39,\n",
              "  'profile_path': '/m8Q9SaYTWJ5iXLoS2E4zvcD4tQ1.jpg'},\n",
              " {'cast_id': 95,\n",
              "  'character': 'British Soldier',\n",
              "  'credit_id': '59a67b84c3a36827990085f8',\n",
              "  'gender': 0,\n",
              "  'id': 1394235,\n",
              "  'name': \"Ben O'Toole\",\n",
              "  'order': 40,\n",
              "  'profile_path': '/f9cCCp1PlRZo4sWdwppHTeOC8kZ.jpg'},\n",
              " {'cast_id': 105,\n",
              "  'character': 'CG Ghost Soldier',\n",
              "  'credit_id': '59c6c7d69251415b32049e77',\n",
              "  'gender': 0,\n",
              "  'id': 1893668,\n",
              "  'name': 'Akshay Caplash',\n",
              "  'order': 41,\n",
              "  'profile_path': '/s3QTX4IdN3wUNN9YiZBid2ANhmM.jpg'},\n",
              " {'cast_id': 106,\n",
              "  'character': 'CG Ghost Soldier',\n",
              "  'credit_id': '59c6c8629251415b6e047778',\n",
              "  'gender': 2,\n",
              "  'id': 1893671,\n",
              "  'name': 'Rafael Torrijos',\n",
              "  'order': 42,\n",
              "  'profile_path': '/lro1QSBv5cmkiO8R8RbxADGXIka.jpg'},\n",
              " {'cast_id': 112,\n",
              "  'character': 'CG Ghost Soldier',\n",
              "  'credit_id': '59c7805d9251415b87053e7f',\n",
              "  'gender': 0,\n",
              "  'id': 1893872,\n",
              "  'name': 'Mivon Prince-Leyva',\n",
              "  'order': 43,\n",
              "  'profile_path': '/c5CfJBn3B0Ce07TxgPUx9ttUTLv.jpg'},\n",
              " {'cast_id': 110,\n",
              "  'character': 'First Officer Wade',\n",
              "  'credit_id': '59c77d9cc3a3681454052a75',\n",
              "  'gender': 2,\n",
              "  'id': 76068,\n",
              "  'name': 'Michael Dorman',\n",
              "  'order': 44,\n",
              "  'profile_path': '/95hvX99zyHIpHJ9Ajv35TWgNlGN.jpg'},\n",
              " {'cast_id': 116,\n",
              "  'character': 'Officer Cole',\n",
              "  'credit_id': '59c784a99251415b870541ed',\n",
              "  'gender': 2,\n",
              "  'id': 33184,\n",
              "  'name': 'Rohan Nichol',\n",
              "  'order': 45,\n",
              "  'profile_path': '/nzvL3MRpADYWlH4ppyYgmCnM1kZ.jpg'},\n",
              " {'cast_id': 96,\n",
              "  'character': 'Officer Santos',\n",
              "  'credit_id': '59c6b999c3a368144304be34',\n",
              "  'gender': 0,\n",
              "  'id': 1893640,\n",
              "  'name': 'Rupert Raineri',\n",
              "  'order': 46,\n",
              "  'profile_path': '/oXeONe2M6qwiVlDFpJIT1wrA9Ek.jpg'},\n",
              " {'cast_id': 97,\n",
              "  'character': 'Officer Moss',\n",
              "  'credit_id': '59c6b9fec3a368143004b954',\n",
              "  'gender': 0,\n",
              "  'id': 1893641,\n",
              "  'name': 'Stephen Lopez',\n",
              "  'order': 47,\n",
              "  'profile_path': '/hYoItjKNWnncBbjM3voLEu5DnN8.jpg'},\n",
              " {'cast_id': 109,\n",
              "  'character': 'Captain Toms',\n",
              "  'credit_id': '59c77d659251415b5d05482d',\n",
              "  'gender': 0,\n",
              "  'id': 75744,\n",
              "  'name': 'Richard Piper',\n",
              "  'order': 48,\n",
              "  'profile_path': '/3SEI2j8jIzVthrYifpMgjNC4MHp.jpg'},\n",
              " {'cast_id': 98,\n",
              "  'character': 'Mr. Krill',\n",
              "  'credit_id': '59c6bc1dc3a368140304c936',\n",
              "  'gender': 0,\n",
              "  'id': 1347909,\n",
              "  'name': 'Justin Smith',\n",
              "  'order': 49,\n",
              "  'profile_path': '/7knG8VrDuEmhAZT2B4p1zmMjDJy.jpg'},\n",
              " {'cast_id': 99,\n",
              "  'character': 'Mr. Swift',\n",
              "  'credit_id': '59c6be5f9251415b2804b325',\n",
              "  'gender': 0,\n",
              "  'id': 1486057,\n",
              "  'name': 'John Leary',\n",
              "  'order': 50,\n",
              "  'profile_path': '/bCP5mcXgFp5X7mq7jTmYpmBbtHE.jpg'},\n",
              " {'cast_id': 100,\n",
              "  'character': 'Bowen',\n",
              "  'credit_id': '59c6c070c3a368141e0448fa',\n",
              "  'gender': 0,\n",
              "  'id': 1014587,\n",
              "  'name': 'Bryan Probets',\n",
              "  'order': 51,\n",
              "  'profile_path': '/wp0o01OuR5YF3DWjBBUYAWUbzHA.jpg'},\n",
              " {'cast_id': 113,\n",
              "  'character': 'Pig Kelly',\n",
              "  'credit_id': '59c7810a9251415b240582b0',\n",
              "  'gender': 2,\n",
              "  'id': 57904,\n",
              "  'name': 'Ken Radley',\n",
              "  'order': 52,\n",
              "  'profile_path': '/jqiM2DbXtNRF3yxRaU2nkYzewEJ.jpg'},\n",
              " {'cast_id': 101,\n",
              "  'character': 'Beatrice',\n",
              "  'credit_id': '59c6c14bc3a36813ed04aed4',\n",
              "  'gender': 1,\n",
              "  'id': 1252521,\n",
              "  'name': 'Hannah Walters',\n",
              "  'order': 53,\n",
              "  'profile_path': '/3hUokXHcRhdpM971cb3kbaVSrY8.jpg'},\n",
              " {'cast_id': 114,\n",
              "  'character': 'Priest',\n",
              "  'credit_id': '59c7826c9251415b32055db4',\n",
              "  'gender': 0,\n",
              "  'id': 1545346,\n",
              "  'name': 'Jonathan Elsom',\n",
              "  'order': 54,\n",
              "  'profile_path': '/i1LEAdB5y6zg4lVa01hV9ZZo7Ew.jpg'},\n",
              " {'cast_id': 102,\n",
              "  'character': 'Captain Morgan',\n",
              "  'credit_id': '59c6c217c3a3681454046e90',\n",
              "  'gender': 2,\n",
              "  'id': 143328,\n",
              "  'name': 'K. Todd Freeman',\n",
              "  'order': 55,\n",
              "  'profile_path': '/2L7Qh4hA2dsCIPZAVfgerax7i2q.jpg'},\n",
              " {'cast_id': 107,\n",
              "  'character': 'Jail Guard',\n",
              "  'credit_id': '59c6c957c3a368140304d946',\n",
              "  'gender': 0,\n",
              "  'id': 1893677,\n",
              "  'name': 'James Lawson',\n",
              "  'order': 56,\n",
              "  'profile_path': '/gtcdsTruLPzpL2xJhePsOq38LjX.jpg'},\n",
              " {'cast_id': 108,\n",
              "  'character': \"Uncle Jack's Cellmate\",\n",
              "  'credit_id': '59c6ca34c3a3681461041481',\n",
              "  'gender': 0,\n",
              "  'id': 1216570,\n",
              "  'name': 'Darcy Laurie',\n",
              "  'order': 57,\n",
              "  'profile_path': '/bTZgOB4wl4ECbHiGjoKQAQdvTUW.jpg'},\n",
              " {'cast_id': 30,\n",
              "  'character': 'Townswoman (uncredited)',\n",
              "  'credit_id': '57f68ea592514172c5002e01',\n",
              "  'gender': 1,\n",
              "  'id': 1255055,\n",
              "  'name': 'Jessica Green',\n",
              "  'order': 58,\n",
              "  'profile_path': '/7l3bkNv92uii8im5B4vyF0ABgcS.jpg'},\n",
              " {'cast_id': 52,\n",
              "  'character': 'Townswoman (uncredited)',\n",
              "  'credit_id': '591294019251414e8504da81',\n",
              "  'gender': 0,\n",
              "  'id': 1345090,\n",
              "  'name': 'Haley Madison',\n",
              "  'order': 59,\n",
              "  'profile_path': '/3XJGp5oJCGvqosOhSSgQZWI8cKo.jpg'},\n",
              " {'cast_id': 36,\n",
              "  'character': 'Townschild (uncredited)',\n",
              "  'credit_id': '57f68ea7c3a36816250071ea',\n",
              "  'gender': 0,\n",
              "  'id': 1632129,\n",
              "  'name': 'Kiara Freeman',\n",
              "  'order': 60,\n",
              "  'profile_path': '/3n5EDxHBritMzqxIS47A6Qccg74.jpg'},\n",
              " {'cast_id': 35,\n",
              "  'character': 'Townschild (uncredited)',\n",
              "  'credit_id': '57f68ea6c3a3681604007202',\n",
              "  'gender': 0,\n",
              "  'id': 1690237,\n",
              "  'name': 'Piper Nairn',\n",
              "  'order': 61,\n",
              "  'profile_path': '/cOVpgx5JF9XeFUF2am9Bk4f5wkh.jpg'},\n",
              " {'cast_id': 53,\n",
              "  'character': 'Townsperson (uncredited)',\n",
              "  'credit_id': '5912942ec3a36864c604d3d7',\n",
              "  'gender': 1,\n",
              "  'id': 1692989,\n",
              "  'name': 'Suzanne Dervish-Ali',\n",
              "  'order': 62,\n",
              "  'profile_path': '/7OQgHuuzFbtO9jAF4w6zcuzqmAK.jpg'},\n",
              " {'cast_id': 50,\n",
              "  'character': 'Townsperson (uncredited)',\n",
              "  'credit_id': '591293a5c3a368650a04aff2',\n",
              "  'gender': 0,\n",
              "  'id': 1813771,\n",
              "  'name': 'Donnie Baxter',\n",
              "  'order': 63,\n",
              "  'profile_path': '/dm2cSQwySnOj9sWqca9nBspS8sL.jpg'},\n",
              " {'cast_id': 41,\n",
              "  'character': 'Maid (uncredited)',\n",
              "  'credit_id': '57f68ea8925141360300747b',\n",
              "  'gender': 0,\n",
              "  'id': 1690239,\n",
              "  'name': 'Winnie Mzembe',\n",
              "  'order': 64,\n",
              "  'profile_path': '/lUTozzeBvTZZkpUQLE5V5baS12X.jpg'},\n",
              " {'cast_id': 39,\n",
              "  'character': 'Greenwich Village Upper Class Lady (uncredited)',\n",
              "  'credit_id': '57f68ea892514172c5002e04',\n",
              "  'gender': 0,\n",
              "  'id': 1690238,\n",
              "  'name': 'Christie-Lee Britten',\n",
              "  'order': 65,\n",
              "  'profile_path': '/uNSjA73XjDbQMJB1XGnoKB89zux.jpg'},\n",
              " {'cast_id': 48,\n",
              "  'character': 'Twin Middle Class Lady (uncredited)',\n",
              "  'credit_id': '5912932f9251414e8904ee64',\n",
              "  'gender': 0,\n",
              "  'id': 1813770,\n",
              "  'name': 'Mollie McGregor',\n",
              "  'order': 66,\n",
              "  'profile_path': '/q4XZ9rV1TbrsqvK91a9FAMudL6C.jpg'},\n",
              " {'cast_id': 103,\n",
              "  'character': 'Twin Middle Class Lady (uncredited)',\n",
              "  'credit_id': '59c6c5399251415b6e0473ea',\n",
              "  'gender': 0,\n",
              "  'id': 1571654,\n",
              "  'name': 'Sophia McGregor',\n",
              "  'order': 67,\n",
              "  'profile_path': '/egbKVmd3f1xgAq90vDiRLLZIFXx.jpg'}]"
            ]
          },
          "metadata": {
            "tags": []
          },
          "execution_count": 56
        }
      ]
    },
    {
      "cell_type": "code",
      "metadata": {
        "id": "-b3VKNimyIEo"
      },
      "source": [
        "def get_actor1(x):\n",
        "    casts = []\n",
        "    for i in x:\n",
        "        casts.append(i.get('name'))\n",
        "    if casts == []:\n",
        "        return np.NaN\n",
        "    else:\n",
        "        return (casts[0])\n",
        "df3['actor_1_name'] = df3['cast'].map(lambda x: get_actor1(x))\n"
      ],
      "execution_count": null,
      "outputs": []
    },
    {
      "cell_type": "code",
      "metadata": {
        "id": "FsR2CQXwyQf6"
      },
      "source": [
        "\n",
        "def get_actor2(x):\n",
        "    casts = []\n",
        "    for i in x:\n",
        "        casts.append(i.get('name'))\n",
        "    if casts == [] or len(casts)<=1:\n",
        "        return np.NaN\n",
        "    else:\n",
        "        return (casts[1])\n",
        "df3['actor_2_name'] = df3['cast'].map(lambda x: get_actor2(x))\n"
      ],
      "execution_count": null,
      "outputs": []
    },
    {
      "cell_type": "code",
      "metadata": {
        "colab": {
          "base_uri": "https://localhost:8080/"
        },
        "id": "-SYGDykTyfRJ",
        "outputId": "fa7dd956-e370-4b87-eefa-7296834a4f64"
      },
      "source": [
        "df3['actor_1_name']\n"
      ],
      "execution_count": null,
      "outputs": [
        {
          "output_type": "execute_result",
          "data": {
            "text/plain": [
              "0               Johnny Depp\n",
              "1               Ben Affleck\n",
              "2           Chris Hemsworth\n",
              "3               Chris Pratt\n",
              "4            Pierce Brosnan\n",
              "               ...         \n",
              "526          Inka Haapamäki\n",
              "527    Lou Diamond Phillips\n",
              "528                     NaN\n",
              "529          Sridevi Kapoor\n",
              "530                     NaN\n",
              "Name: actor_1_name, Length: 531, dtype: object"
            ]
          },
          "metadata": {
            "tags": []
          },
          "execution_count": 70
        }
      ]
    },
    {
      "cell_type": "code",
      "metadata": {
        "id": "prXGFJwayiAE"
      },
      "source": [
        "def get_actor3(x):\n",
        "    casts = []\n",
        "    for i in x:\n",
        "        casts.append(i.get('name'))\n",
        "    if casts == [] or len(casts)<=2:\n",
        "        return np.NaN\n",
        "    else:\n",
        "        return (casts[2])\n",
        "df3['actor_3_name'] = df3['cast'].map(lambda x: get_actor3(x))\n"
      ],
      "execution_count": null,
      "outputs": []
    },
    {
      "cell_type": "code",
      "metadata": {
        "id": "_Ee7NnbQy3eI"
      },
      "source": [
        "def get_directors(x):\n",
        "    dt = []\n",
        "    st = \" \"\n",
        "    for i in x:\n",
        "        if i.get('job') == 'Director':\n",
        "            dt.append(i.get('name'))\n",
        "    if dt == []:\n",
        "        return np.NaN\n",
        "    else:\n",
        "        return (st.join(dt))\n",
        "df3['director_name'] = df3['crew'].map(lambda x: get_directors(x))\n"
      ],
      "execution_count": null,
      "outputs": []
    },
    {
      "cell_type": "code",
      "metadata": {
        "colab": {
          "base_uri": "https://localhost:8080/",
          "height": 35
        },
        "id": "uJ7HsnAhL1_q",
        "outputId": "be4a0b0d-d385-4745-ec36-ffe1c83d7978"
      },
      "source": [
        "df3.director_name[1]"
      ],
      "execution_count": null,
      "outputs": [
        {
          "output_type": "execute_result",
          "data": {
            "application/vnd.google.colaboratory.intrinsic+json": {
              "type": "string"
            },
            "text/plain": [
              "'Zack Snyder'"
            ]
          },
          "metadata": {
            "tags": []
          },
          "execution_count": 74
        }
      ]
    },
    {
      "cell_type": "code",
      "metadata": {
        "id": "I5tX_RnNzEWW"
      },
      "source": [
        "movie = df3.loc[:,['director_name','actor_1_name','actor_2_name','actor_3_name','genres_list','title']]\n"
      ],
      "execution_count": null,
      "outputs": []
    },
    {
      "cell_type": "code",
      "metadata": {
        "colab": {
          "base_uri": "https://localhost:8080/",
          "height": 204
        },
        "id": "i3TD5dTKzH7J",
        "outputId": "c150d497-0c5a-4ce2-870c-62197193c670"
      },
      "source": [
        "movie.head()"
      ],
      "execution_count": null,
      "outputs": [
        {
          "output_type": "execute_result",
          "data": {
            "text/html": [
              "<div>\n",
              "<style scoped>\n",
              "    .dataframe tbody tr th:only-of-type {\n",
              "        vertical-align: middle;\n",
              "    }\n",
              "\n",
              "    .dataframe tbody tr th {\n",
              "        vertical-align: top;\n",
              "    }\n",
              "\n",
              "    .dataframe thead th {\n",
              "        text-align: right;\n",
              "    }\n",
              "</style>\n",
              "<table border=\"1\" class=\"dataframe\">\n",
              "  <thead>\n",
              "    <tr style=\"text-align: right;\">\n",
              "      <th></th>\n",
              "      <th>director_name</th>\n",
              "      <th>actor_1_name</th>\n",
              "      <th>actor_2_name</th>\n",
              "      <th>actor_3_name</th>\n",
              "      <th>genres_list</th>\n",
              "      <th>title</th>\n",
              "    </tr>\n",
              "  </thead>\n",
              "  <tbody>\n",
              "    <tr>\n",
              "      <th>0</th>\n",
              "      <td>Joachim Rønning Espen Sandberg</td>\n",
              "      <td>Johnny Depp</td>\n",
              "      <td>Javier Bardem</td>\n",
              "      <td>Geoffrey Rush</td>\n",
              "      <td>Adventure Action Fantasy Comedy</td>\n",
              "      <td>Pirates of the Caribbean: Dead Men Tell No Tales</td>\n",
              "    </tr>\n",
              "    <tr>\n",
              "      <th>1</th>\n",
              "      <td>Zack Snyder</td>\n",
              "      <td>Ben Affleck</td>\n",
              "      <td>Henry Cavill</td>\n",
              "      <td>Gal Gadot</td>\n",
              "      <td>Action Adventure Fantasy Sci-Fi</td>\n",
              "      <td>Justice League</td>\n",
              "    </tr>\n",
              "    <tr>\n",
              "      <th>2</th>\n",
              "      <td>Taika Waititi</td>\n",
              "      <td>Chris Hemsworth</td>\n",
              "      <td>Tom Hiddleston</td>\n",
              "      <td>Cate Blanchett</td>\n",
              "      <td>Action Adventure Fantasy Sci-Fi</td>\n",
              "      <td>Thor: Ragnarok</td>\n",
              "    </tr>\n",
              "    <tr>\n",
              "      <th>3</th>\n",
              "      <td>James Gunn</td>\n",
              "      <td>Chris Pratt</td>\n",
              "      <td>Zoe Saldana</td>\n",
              "      <td>Dave Bautista</td>\n",
              "      <td>Action Adventure Comedy Sci-Fi</td>\n",
              "      <td>Guardians of the Galaxy Vol. 2</td>\n",
              "    </tr>\n",
              "    <tr>\n",
              "      <th>4</th>\n",
              "      <td>Sean McNamara</td>\n",
              "      <td>Pierce Brosnan</td>\n",
              "      <td>William Hurt</td>\n",
              "      <td>Benjamin Walker</td>\n",
              "      <td>Fantasy Action Adventure</td>\n",
              "      <td>The King's Daughter</td>\n",
              "    </tr>\n",
              "  </tbody>\n",
              "</table>\n",
              "</div>"
            ],
            "text/plain": [
              "                    director_name  ...                                             title\n",
              "0  Joachim Rønning Espen Sandberg  ...  Pirates of the Caribbean: Dead Men Tell No Tales\n",
              "1                     Zack Snyder  ...                                    Justice League\n",
              "2                   Taika Waititi  ...                                    Thor: Ragnarok\n",
              "3                      James Gunn  ...                    Guardians of the Galaxy Vol. 2\n",
              "4                   Sean McNamara  ...                               The King's Daughter\n",
              "\n",
              "[5 rows x 6 columns]"
            ]
          },
          "metadata": {
            "tags": []
          },
          "execution_count": 76
        }
      ]
    },
    {
      "cell_type": "code",
      "metadata": {
        "id": "m74ssEw-zNV7"
      },
      "source": [
        "movie = movie.dropna(how='any')\n"
      ],
      "execution_count": null,
      "outputs": []
    },
    {
      "cell_type": "code",
      "metadata": {
        "colab": {
          "base_uri": "https://localhost:8080/"
        },
        "id": "UT8OJmgAzSzb",
        "outputId": "ab1353f4-2104-4caa-a0fa-f57607b06833"
      },
      "source": [
        "movie.isna().sum()\n"
      ],
      "execution_count": null,
      "outputs": [
        {
          "output_type": "execute_result",
          "data": {
            "text/plain": [
              "director_name    0\n",
              "actor_1_name     0\n",
              "actor_2_name     0\n",
              "actor_3_name     0\n",
              "genres_list      0\n",
              "title            0\n",
              "dtype: int64"
            ]
          },
          "metadata": {
            "tags": []
          },
          "execution_count": 78
        }
      ]
    },
    {
      "cell_type": "code",
      "metadata": {
        "id": "HlWBLcXSzVN9"
      },
      "source": [
        "movie = movie.rename(columns={'genres_list':'genres'})\n",
        "movie = movie.rename(columns={'title':'movie_title'})"
      ],
      "execution_count": null,
      "outputs": []
    },
    {
      "cell_type": "code",
      "metadata": {
        "id": "Xyw4ty05zaJM"
      },
      "source": [
        "movie['movie_title'] = movie['movie_title'].str.lower()\n"
      ],
      "execution_count": null,
      "outputs": []
    },
    {
      "cell_type": "code",
      "metadata": {
        "id": "6gK3il6ezeOM"
      },
      "source": [
        "\n",
        "movie['comb'] = movie['actor_1_name'] + ' ' + movie['actor_2_name'] + ' '+ movie['actor_3_name'] + ' '+ movie['director_name'] +' ' + movie['genres']\n"
      ],
      "execution_count": null,
      "outputs": []
    },
    {
      "cell_type": "code",
      "metadata": {
        "id": "N2TJWnUbzkH8"
      },
      "source": [
        "movie.drop_duplicates(subset =\"movie_title\", keep = 'last', inplace = True)\n"
      ],
      "execution_count": null,
      "outputs": []
    },
    {
      "cell_type": "code",
      "metadata": {
        "colab": {
          "base_uri": "https://localhost:8080/",
          "height": 289
        },
        "id": "_StJoXpRzoW1",
        "outputId": "0482dcd3-f273-4230-b41a-0e14b2b1d754"
      },
      "source": [
        "movie.head()"
      ],
      "execution_count": null,
      "outputs": [
        {
          "output_type": "execute_result",
          "data": {
            "text/html": [
              "<div>\n",
              "<style scoped>\n",
              "    .dataframe tbody tr th:only-of-type {\n",
              "        vertical-align: middle;\n",
              "    }\n",
              "\n",
              "    .dataframe tbody tr th {\n",
              "        vertical-align: top;\n",
              "    }\n",
              "\n",
              "    .dataframe thead th {\n",
              "        text-align: right;\n",
              "    }\n",
              "</style>\n",
              "<table border=\"1\" class=\"dataframe\">\n",
              "  <thead>\n",
              "    <tr style=\"text-align: right;\">\n",
              "      <th></th>\n",
              "      <th>director_name</th>\n",
              "      <th>actor_1_name</th>\n",
              "      <th>actor_2_name</th>\n",
              "      <th>actor_3_name</th>\n",
              "      <th>genres</th>\n",
              "      <th>movie_title</th>\n",
              "      <th>comb</th>\n",
              "    </tr>\n",
              "  </thead>\n",
              "  <tbody>\n",
              "    <tr>\n",
              "      <th>0</th>\n",
              "      <td>Joachim Rønning Espen Sandberg</td>\n",
              "      <td>Johnny Depp</td>\n",
              "      <td>Javier Bardem</td>\n",
              "      <td>Geoffrey Rush</td>\n",
              "      <td>Adventure Action Fantasy Comedy</td>\n",
              "      <td>pirates of the caribbean: dead men tell no tales</td>\n",
              "      <td>Johnny Depp Javier Bardem Geoffrey Rush Joachi...</td>\n",
              "    </tr>\n",
              "    <tr>\n",
              "      <th>1</th>\n",
              "      <td>Zack Snyder</td>\n",
              "      <td>Ben Affleck</td>\n",
              "      <td>Henry Cavill</td>\n",
              "      <td>Gal Gadot</td>\n",
              "      <td>Action Adventure Fantasy Sci-Fi</td>\n",
              "      <td>justice league</td>\n",
              "      <td>Ben Affleck Henry Cavill Gal Gadot Zack Snyder...</td>\n",
              "    </tr>\n",
              "    <tr>\n",
              "      <th>2</th>\n",
              "      <td>Taika Waititi</td>\n",
              "      <td>Chris Hemsworth</td>\n",
              "      <td>Tom Hiddleston</td>\n",
              "      <td>Cate Blanchett</td>\n",
              "      <td>Action Adventure Fantasy Sci-Fi</td>\n",
              "      <td>thor: ragnarok</td>\n",
              "      <td>Chris Hemsworth Tom Hiddleston Cate Blanchett ...</td>\n",
              "    </tr>\n",
              "    <tr>\n",
              "      <th>3</th>\n",
              "      <td>James Gunn</td>\n",
              "      <td>Chris Pratt</td>\n",
              "      <td>Zoe Saldana</td>\n",
              "      <td>Dave Bautista</td>\n",
              "      <td>Action Adventure Comedy Sci-Fi</td>\n",
              "      <td>guardians of the galaxy vol. 2</td>\n",
              "      <td>Chris Pratt Zoe Saldana Dave Bautista James Gu...</td>\n",
              "    </tr>\n",
              "    <tr>\n",
              "      <th>4</th>\n",
              "      <td>Sean McNamara</td>\n",
              "      <td>Pierce Brosnan</td>\n",
              "      <td>William Hurt</td>\n",
              "      <td>Benjamin Walker</td>\n",
              "      <td>Fantasy Action Adventure</td>\n",
              "      <td>the king's daughter</td>\n",
              "      <td>Pierce Brosnan William Hurt Benjamin Walker Se...</td>\n",
              "    </tr>\n",
              "  </tbody>\n",
              "</table>\n",
              "</div>"
            ],
            "text/plain": [
              "                    director_name  ...                                               comb\n",
              "0  Joachim Rønning Espen Sandberg  ...  Johnny Depp Javier Bardem Geoffrey Rush Joachi...\n",
              "1                     Zack Snyder  ...  Ben Affleck Henry Cavill Gal Gadot Zack Snyder...\n",
              "2                   Taika Waititi  ...  Chris Hemsworth Tom Hiddleston Cate Blanchett ...\n",
              "3                      James Gunn  ...  Chris Pratt Zoe Saldana Dave Bautista James Gu...\n",
              "4                   Sean McNamara  ...  Pierce Brosnan William Hurt Benjamin Walker Se...\n",
              "\n",
              "[5 rows x 7 columns]"
            ]
          },
          "metadata": {
            "tags": []
          },
          "execution_count": 83
        }
      ]
    },
    {
      "cell_type": "code",
      "metadata": {
        "id": "PwGA3qGhzp-0"
      },
      "source": [
        "movie.to_csv('/content/drive/MyDrive/movie.csv',index=False)"
      ],
      "execution_count": null,
      "outputs": []
    },
    {
      "cell_type": "code",
      "metadata": {
        "id": "1goanSFPzt1Y"
      },
      "source": [
        "# 2018 & 2019\n",
        "link = \"https://en.wikipedia.org/wiki/List_of_American_films_of_2018\"\n",
        "df1 = pd.read_html(link, header=0)[2]\n",
        "df2 = pd.read_html(link, header=0)[3]\n",
        "df3 = pd.read_html(link, header=0)[4]\n",
        "df4 = pd.read_html(link, header=0)[5]"
      ],
      "execution_count": null,
      "outputs": []
    },
    {
      "cell_type": "code",
      "metadata": {
        "id": "zrSm0AJt0NkP"
      },
      "source": [
        "df = df1.append(df2.append(df3.append(df4,ignore_index=True),ignore_index=True),ignore_index=True)\n"
      ],
      "execution_count": null,
      "outputs": []
    },
    {
      "cell_type": "code",
      "metadata": {
        "colab": {
          "base_uri": "https://localhost:8080/",
          "height": 204
        },
        "id": "6CSwwRun0QdM",
        "outputId": "51ac7d80-26bd-40d5-f68d-00c481920c2c"
      },
      "source": [
        "df.head()"
      ],
      "execution_count": null,
      "outputs": [
        {
          "output_type": "execute_result",
          "data": {
            "text/html": [
              "<div>\n",
              "<style scoped>\n",
              "    .dataframe tbody tr th:only-of-type {\n",
              "        vertical-align: middle;\n",
              "    }\n",
              "\n",
              "    .dataframe tbody tr th {\n",
              "        vertical-align: top;\n",
              "    }\n",
              "\n",
              "    .dataframe thead th {\n",
              "        text-align: right;\n",
              "    }\n",
              "</style>\n",
              "<table border=\"1\" class=\"dataframe\">\n",
              "  <thead>\n",
              "    <tr style=\"text-align: right;\">\n",
              "      <th></th>\n",
              "      <th>Opening</th>\n",
              "      <th>Opening.1</th>\n",
              "      <th>Title</th>\n",
              "      <th>Production company</th>\n",
              "      <th>Cast and crew</th>\n",
              "      <th>Ref.</th>\n",
              "    </tr>\n",
              "  </thead>\n",
              "  <tbody>\n",
              "    <tr>\n",
              "      <th>0</th>\n",
              "      <td>JANUARY</td>\n",
              "      <td>5</td>\n",
              "      <td>Insidious: The Last Key</td>\n",
              "      <td>Universal Pictures / Blumhouse Productions / S...</td>\n",
              "      <td>Adam Robitel (director); Leigh Whannell (scree...</td>\n",
              "      <td>[2]</td>\n",
              "    </tr>\n",
              "    <tr>\n",
              "      <th>1</th>\n",
              "      <td>JANUARY</td>\n",
              "      <td>5</td>\n",
              "      <td>The Strange Ones</td>\n",
              "      <td>Vertical Entertainment</td>\n",
              "      <td>Lauren Wolkstein (director); Christopher Radcl...</td>\n",
              "      <td>[3]</td>\n",
              "    </tr>\n",
              "    <tr>\n",
              "      <th>2</th>\n",
              "      <td>JANUARY</td>\n",
              "      <td>5</td>\n",
              "      <td>Stratton</td>\n",
              "      <td>Momentum Pictures</td>\n",
              "      <td>Simon West (director); Duncan Falconer, Warren...</td>\n",
              "      <td>[4]</td>\n",
              "    </tr>\n",
              "    <tr>\n",
              "      <th>3</th>\n",
              "      <td>JANUARY</td>\n",
              "      <td>10</td>\n",
              "      <td>Sweet Country</td>\n",
              "      <td>Samuel Goldwyn Films</td>\n",
              "      <td>Warwick Thornton (director); David Tranter, St...</td>\n",
              "      <td>[5]</td>\n",
              "    </tr>\n",
              "    <tr>\n",
              "      <th>4</th>\n",
              "      <td>JANUARY</td>\n",
              "      <td>12</td>\n",
              "      <td>The Commuter</td>\n",
              "      <td>Lionsgate / StudioCanal / The Picture Company</td>\n",
              "      <td>Jaume Collet-Serra (director); Byron Willinger...</td>\n",
              "      <td>[6]</td>\n",
              "    </tr>\n",
              "  </tbody>\n",
              "</table>\n",
              "</div>"
            ],
            "text/plain": [
              "   Opening  Opening.1  ...                                      Cast and crew Ref.\n",
              "0  JANUARY          5  ...  Adam Robitel (director); Leigh Whannell (scree...  [2]\n",
              "1  JANUARY          5  ...  Lauren Wolkstein (director); Christopher Radcl...  [3]\n",
              "2  JANUARY          5  ...  Simon West (director); Duncan Falconer, Warren...  [4]\n",
              "3  JANUARY         10  ...  Warwick Thornton (director); David Tranter, St...  [5]\n",
              "4  JANUARY         12  ...  Jaume Collet-Serra (director); Byron Willinger...  [6]\n",
              "\n",
              "[5 rows x 6 columns]"
            ]
          },
          "metadata": {
            "tags": []
          },
          "execution_count": 88
        }
      ]
    },
    {
      "cell_type": "code",
      "metadata": {
        "colab": {
          "base_uri": "https://localhost:8080/"
        },
        "id": "8a_f-ukf0Sxe",
        "outputId": "a79e7b87-74e0-46d8-805d-a426968fbeb4"
      },
      "source": [
        "!pip install tmdbv3api\n"
      ],
      "execution_count": null,
      "outputs": [
        {
          "output_type": "stream",
          "text": [
            "Collecting tmdbv3api\n",
            "  Downloading https://files.pythonhosted.org/packages/7d/c1/ee597195b411122d012837bcbbc287c81ae115421ca036c2c7548f2d3eaa/tmdbv3api-1.7.6-py2.py3-none-any.whl\n",
            "Requirement already satisfied: requests in /usr/local/lib/python3.7/dist-packages (from tmdbv3api) (2.23.0)\n",
            "Requirement already satisfied: chardet<4,>=3.0.2 in /usr/local/lib/python3.7/dist-packages (from requests->tmdbv3api) (3.0.4)\n",
            "Requirement already satisfied: urllib3!=1.25.0,!=1.25.1,<1.26,>=1.21.1 in /usr/local/lib/python3.7/dist-packages (from requests->tmdbv3api) (1.24.3)\n",
            "Requirement already satisfied: certifi>=2017.4.17 in /usr/local/lib/python3.7/dist-packages (from requests->tmdbv3api) (2021.5.30)\n",
            "Requirement already satisfied: idna<3,>=2.5 in /usr/local/lib/python3.7/dist-packages (from requests->tmdbv3api) (2.10)\n",
            "Installing collected packages: tmdbv3api\n",
            "Successfully installed tmdbv3api-1.7.6\n"
          ],
          "name": "stdout"
        }
      ]
    },
    {
      "cell_type": "code",
      "metadata": {
        "id": "0bzWibv-0Xaf"
      },
      "source": [
        "from tmdbv3api import TMDb\n",
        "import json\n",
        "import requests\n",
        "tmdb = TMDb()\n",
        "tmdb.api_key = '0ea768ec7061eda7b3afef743666005e'"
      ],
      "execution_count": null,
      "outputs": []
    },
    {
      "cell_type": "code",
      "metadata": {
        "id": "taEJglkIDRiz"
      },
      "source": [
        "from tmdbv3api import Movie\n",
        "movie = Movie()\n",
        "\n",
        "s = movie.search(\"abdsd\")"
      ],
      "execution_count": null,
      "outputs": []
    },
    {
      "cell_type": "code",
      "metadata": {
        "colab": {
          "base_uri": "https://localhost:8080/"
        },
        "id": "Wvo_h7RfD5ij",
        "outputId": "83ccc3ab-02a6-4a24-cf66-07d9d739eadb"
      },
      "source": [
        "s"
      ],
      "execution_count": null,
      "outputs": [
        {
          "output_type": "execute_result",
          "data": {
            "text/plain": [
              "[]"
            ]
          },
          "metadata": {
            "tags": []
          },
          "execution_count": 13
        }
      ]
    },
    {
      "cell_type": "code",
      "metadata": {
        "id": "ALxlz78h0j4-",
        "colab": {
          "base_uri": "https://localhost:8080/",
          "height": 353
        },
        "outputId": "a67ed97a-9487-4967-c048-f705976fa52c"
      },
      "source": [
        "\n",
        "from tmdbv3api import Movie\n",
        "tmdb_movie = Movie()\n",
        "def get_genre(x):\n",
        "    genres = []\n",
        "    result = tmdb_movie.search(x)\n",
        "    movie_id = result[0].id\n",
        "    response = requests.get('https://api.themoviedb.org/3/movie/{}?api_key={}'.format(movie_id,tmdb.api_key))\n",
        "    data_json = response.json()\n",
        "    \n",
        "    if data_json['genres']:\n",
        "        for gen in data_json['genres'] : \n",
        "          genres.append(gen['name'])\n",
        "        return ' '.join(genres)\n",
        "    else:\n",
        "        np.NaN"
      ],
      "execution_count": null,
      "outputs": [
        {
          "output_type": "error",
          "ename": "ModuleNotFoundError",
          "evalue": "ignored",
          "traceback": [
            "\u001b[0;31m---------------------------------------------------------------------------\u001b[0m",
            "\u001b[0;31mModuleNotFoundError\u001b[0m                       Traceback (most recent call last)",
            "\u001b[0;32m<ipython-input-1-fc1ca64dd6d4>\u001b[0m in \u001b[0;36m<module>\u001b[0;34m()\u001b[0m\n\u001b[1;32m      1\u001b[0m \u001b[0;34m\u001b[0m\u001b[0m\n\u001b[0;32m----> 2\u001b[0;31m \u001b[0;32mfrom\u001b[0m \u001b[0mtmdbv3api\u001b[0m \u001b[0;32mimport\u001b[0m \u001b[0mMovie\u001b[0m\u001b[0;34m\u001b[0m\u001b[0;34m\u001b[0m\u001b[0m\n\u001b[0m\u001b[1;32m      3\u001b[0m \u001b[0mtmdb_movie\u001b[0m \u001b[0;34m=\u001b[0m \u001b[0mMovie\u001b[0m\u001b[0;34m(\u001b[0m\u001b[0;34m)\u001b[0m\u001b[0;34m\u001b[0m\u001b[0;34m\u001b[0m\u001b[0m\n\u001b[1;32m      4\u001b[0m \u001b[0;32mdef\u001b[0m \u001b[0mget_genre\u001b[0m\u001b[0;34m(\u001b[0m\u001b[0mx\u001b[0m\u001b[0;34m)\u001b[0m\u001b[0;34m:\u001b[0m\u001b[0;34m\u001b[0m\u001b[0;34m\u001b[0m\u001b[0m\n\u001b[1;32m      5\u001b[0m     \u001b[0mgenres\u001b[0m \u001b[0;34m=\u001b[0m \u001b[0;34m[\u001b[0m\u001b[0;34m]\u001b[0m\u001b[0;34m\u001b[0m\u001b[0;34m\u001b[0m\u001b[0m\n",
            "\u001b[0;31mModuleNotFoundError\u001b[0m: No module named 'tmdbv3api'",
            "",
            "\u001b[0;31m---------------------------------------------------------------------------\u001b[0;32m\nNOTE: If your import is failing due to a missing package, you can\nmanually install dependencies using either !pip or !apt.\n\nTo view examples of installing some common dependencies, click the\n\"Open Examples\" button below.\n\u001b[0;31m---------------------------------------------------------------------------\u001b[0m\n"
          ]
        }
      ]
    },
    {
      "cell_type": "code",
      "metadata": {
        "id": "rZg_sgDL0qek"
      },
      "source": [
        "df['genres'] = df['Title'].map(lambda x: get_genre(str(x)))\n"
      ],
      "execution_count": null,
      "outputs": []
    },
    {
      "cell_type": "code",
      "metadata": {
        "id": "2RT78mQX0sky"
      },
      "source": [
        "df_2018 = df[['Title','Cast and crew','genres']]\n"
      ],
      "execution_count": null,
      "outputs": []
    },
    {
      "cell_type": "code",
      "metadata": {
        "colab": {
          "base_uri": "https://localhost:8080/",
          "height": 204
        },
        "id": "xhTWIMzrPoO1",
        "outputId": "472e7f45-d20a-4a6f-aeb4-6d166c8a123a"
      },
      "source": [
        "df_2018.head()"
      ],
      "execution_count": null,
      "outputs": [
        {
          "output_type": "execute_result",
          "data": {
            "text/html": [
              "<div>\n",
              "<style scoped>\n",
              "    .dataframe tbody tr th:only-of-type {\n",
              "        vertical-align: middle;\n",
              "    }\n",
              "\n",
              "    .dataframe tbody tr th {\n",
              "        vertical-align: top;\n",
              "    }\n",
              "\n",
              "    .dataframe thead th {\n",
              "        text-align: right;\n",
              "    }\n",
              "</style>\n",
              "<table border=\"1\" class=\"dataframe\">\n",
              "  <thead>\n",
              "    <tr style=\"text-align: right;\">\n",
              "      <th></th>\n",
              "      <th>Title</th>\n",
              "      <th>Cast and crew</th>\n",
              "      <th>genres</th>\n",
              "    </tr>\n",
              "  </thead>\n",
              "  <tbody>\n",
              "    <tr>\n",
              "      <th>0</th>\n",
              "      <td>Insidious: The Last Key</td>\n",
              "      <td>Adam Robitel (director); Leigh Whannell (scree...</td>\n",
              "      <td>Horror Mystery Thriller</td>\n",
              "    </tr>\n",
              "    <tr>\n",
              "      <th>1</th>\n",
              "      <td>The Strange Ones</td>\n",
              "      <td>Lauren Wolkstein (director); Christopher Radcl...</td>\n",
              "      <td>Thriller Drama</td>\n",
              "    </tr>\n",
              "    <tr>\n",
              "      <th>2</th>\n",
              "      <td>Stratton</td>\n",
              "      <td>Simon West (director); Duncan Falconer, Warren...</td>\n",
              "      <td>Action Thriller</td>\n",
              "    </tr>\n",
              "    <tr>\n",
              "      <th>3</th>\n",
              "      <td>Sweet Country</td>\n",
              "      <td>Warwick Thornton (director); David Tranter, St...</td>\n",
              "      <td>Drama History Western</td>\n",
              "    </tr>\n",
              "    <tr>\n",
              "      <th>4</th>\n",
              "      <td>The Commuter</td>\n",
              "      <td>Jaume Collet-Serra (director); Byron Willinger...</td>\n",
              "      <td>Action Thriller</td>\n",
              "    </tr>\n",
              "  </tbody>\n",
              "</table>\n",
              "</div>"
            ],
            "text/plain": [
              "                     Title  ...                   genres\n",
              "0  Insidious: The Last Key  ...  Horror Mystery Thriller\n",
              "1         The Strange Ones  ...           Thriller Drama\n",
              "2                 Stratton  ...          Action Thriller\n",
              "3            Sweet Country  ...    Drama History Western\n",
              "4             The Commuter  ...          Action Thriller\n",
              "\n",
              "[5 rows x 3 columns]"
            ]
          },
          "metadata": {
            "tags": []
          },
          "execution_count": 97
        }
      ]
    },
    {
      "cell_type": "code",
      "metadata": {
        "colab": {
          "base_uri": "https://localhost:8080/",
          "height": 35
        },
        "id": "YH_mUB5sQ5JC",
        "outputId": "13421d2a-f04c-4733-a97e-745fee8ec624"
      },
      "source": [
        "df_2018['Cast and crew'][0]"
      ],
      "execution_count": null,
      "outputs": [
        {
          "output_type": "execute_result",
          "data": {
            "application/vnd.google.colaboratory.intrinsic+json": {
              "type": "string"
            },
            "text/plain": [
              "'Adam Robitel (director); Leigh Whannell (screenplay); Lin Shaye, Angus Sampson, Leigh Whannell, Spencer Locke, Caitlin Gerard, Kirk Acevedo, Bruce Davison'"
            ]
          },
          "metadata": {
            "tags": []
          },
          "execution_count": 106
        }
      ]
    },
    {
      "cell_type": "code",
      "metadata": {
        "id": "Lq0TiIug0xKY"
      },
      "source": [
        "def get_director(x):\n",
        "    if \" (director)\" in x:\n",
        "        return x.split(\" (director)\")[0]\n",
        "    elif \" (directors)\" in x:\n",
        "        return x.split(\" (directors)\")[0]\n",
        "    else:\n",
        "        return x.split(\" (director/screenplay)\")[0]"
      ],
      "execution_count": null,
      "outputs": []
    },
    {
      "cell_type": "code",
      "metadata": {
        "colab": {
          "base_uri": "https://localhost:8080/"
        },
        "id": "8wb98d4p04YN",
        "outputId": "b77afd63-d708-45c9-9b5d-c89940223fbe"
      },
      "source": [
        "df_2018['director_name'] = df_2018['Cast and crew'].map(lambda x: get_director(x))\n"
      ],
      "execution_count": null,
      "outputs": [
        {
          "output_type": "stream",
          "text": [
            "/usr/local/lib/python3.6/dist-packages/ipykernel_launcher.py:1: SettingWithCopyWarning: \n",
            "A value is trying to be set on a copy of a slice from a DataFrame.\n",
            "Try using .loc[row_indexer,col_indexer] = value instead\n",
            "\n",
            "See the caveats in the documentation: https://pandas.pydata.org/pandas-docs/stable/user_guide/indexing.html#returning-a-view-versus-a-copy\n",
            "  \"\"\"Entry point for launching an IPython kernel.\n"
          ],
          "name": "stderr"
        }
      ]
    },
    {
      "cell_type": "code",
      "metadata": {
        "colab": {
          "base_uri": "https://localhost:8080/"
        },
        "id": "xpWajZ4B06N-",
        "outputId": "5ac73f0a-7630-49c2-b110-19d2b88eba53"
      },
      "source": [
        "def get_actor1(x):\n",
        "    return ((x.split(\"screenplay); \")[-1]).split(\", \")[0])\n",
        "df_2018['actor_1_name'] = df_2018['Cast and crew'].map(lambda x: get_actor1(x))\n",
        "def get_actor2(x):\n",
        "    if len((x.split(\"screenplay); \")[-1]).split(\", \")) < 2:\n",
        "        return np.NaN\n",
        "    else:\n",
        "        return ((x.split(\"screenplay); \")[-1]).split(\", \")[1])\n",
        "df_2018['actor_2_name'] = df_2018['Cast and crew'].map(lambda x: get_actor2(x))\n",
        "def get_actor3(x):\n",
        "    if len((x.split(\"screenplay); \")[-1]).split(\", \")) < 3:\n",
        "        return np.NaN\n",
        "    else:\n",
        "        return ((x.split(\"screenplay); \")[-1]).split(\", \")[2])\n",
        "df_2018['actor_3_name'] = df_2018['Cast and crew'].map(lambda x: get_actor3(x))\n",
        "df_2018 = df_2018.rename(columns={'Title':'movie_title'})\n",
        "new_df18 = df_2018.loc[:,['director_name','actor_1_name','actor_2_name','actor_3_name','genres','movie_title']]\n"
      ],
      "execution_count": null,
      "outputs": [
        {
          "output_type": "stream",
          "text": [
            "/usr/local/lib/python3.6/dist-packages/ipykernel_launcher.py:3: SettingWithCopyWarning: \n",
            "A value is trying to be set on a copy of a slice from a DataFrame.\n",
            "Try using .loc[row_indexer,col_indexer] = value instead\n",
            "\n",
            "See the caveats in the documentation: https://pandas.pydata.org/pandas-docs/stable/user_guide/indexing.html#returning-a-view-versus-a-copy\n",
            "  This is separate from the ipykernel package so we can avoid doing imports until\n",
            "/usr/local/lib/python3.6/dist-packages/ipykernel_launcher.py:9: SettingWithCopyWarning: \n",
            "A value is trying to be set on a copy of a slice from a DataFrame.\n",
            "Try using .loc[row_indexer,col_indexer] = value instead\n",
            "\n",
            "See the caveats in the documentation: https://pandas.pydata.org/pandas-docs/stable/user_guide/indexing.html#returning-a-view-versus-a-copy\n",
            "  if __name__ == '__main__':\n"
          ],
          "name": "stderr"
        }
      ]
    },
    {
      "cell_type": "code",
      "metadata": {
        "id": "wS86S9zM19OL"
      },
      "source": [
        "new_df18['actor_2_name'] = new_df18['actor_2_name'].replace(np.nan, 'unknown')\n",
        "new_df18['actor_3_name'] = new_df18['actor_3_name'].replace(np.nan, 'unknown')\n"
      ],
      "execution_count": null,
      "outputs": []
    },
    {
      "cell_type": "code",
      "metadata": {
        "id": "1Fxse2fP1-K4"
      },
      "source": [
        "new_df18['movie_title'] = new_df18['movie_title'].str.lower()\n"
      ],
      "execution_count": null,
      "outputs": []
    },
    {
      "cell_type": "code",
      "metadata": {
        "id": "3AjFI66N2AWk"
      },
      "source": [
        "new_df18['comb'] = new_df18['actor_1_name'] + ' ' + new_df18['actor_2_name'] + ' '+ new_df18['actor_3_name'] + ' '+ new_df18['director_name'] +' ' + new_df18['genres']"
      ],
      "execution_count": null,
      "outputs": []
    },
    {
      "cell_type": "code",
      "metadata": {
        "colab": {
          "base_uri": "https://localhost:8080/",
          "height": 204
        },
        "id": "2S-Gl28g2DZE",
        "outputId": "59eb10da-99e4-4ed5-9ef5-ee00ba8e63d0"
      },
      "source": [
        "new_df18.head()"
      ],
      "execution_count": null,
      "outputs": [
        {
          "output_type": "execute_result",
          "data": {
            "text/html": [
              "<div>\n",
              "<style scoped>\n",
              "    .dataframe tbody tr th:only-of-type {\n",
              "        vertical-align: middle;\n",
              "    }\n",
              "\n",
              "    .dataframe tbody tr th {\n",
              "        vertical-align: top;\n",
              "    }\n",
              "\n",
              "    .dataframe thead th {\n",
              "        text-align: right;\n",
              "    }\n",
              "</style>\n",
              "<table border=\"1\" class=\"dataframe\">\n",
              "  <thead>\n",
              "    <tr style=\"text-align: right;\">\n",
              "      <th></th>\n",
              "      <th>director_name</th>\n",
              "      <th>actor_1_name</th>\n",
              "      <th>actor_2_name</th>\n",
              "      <th>actor_3_name</th>\n",
              "      <th>genres</th>\n",
              "      <th>movie_title</th>\n",
              "      <th>comb</th>\n",
              "    </tr>\n",
              "  </thead>\n",
              "  <tbody>\n",
              "    <tr>\n",
              "      <th>0</th>\n",
              "      <td>Adam Robitel</td>\n",
              "      <td>Lin Shaye</td>\n",
              "      <td>Angus Sampson</td>\n",
              "      <td>Leigh Whannell</td>\n",
              "      <td>Horror Mystery Thriller</td>\n",
              "      <td>insidious: the last key</td>\n",
              "      <td>Lin Shaye Angus Sampson Leigh Whannell Adam Ro...</td>\n",
              "    </tr>\n",
              "    <tr>\n",
              "      <th>1</th>\n",
              "      <td>Lauren Wolkstein</td>\n",
              "      <td>Alex Pettyfer</td>\n",
              "      <td>James Freedson-Jackson</td>\n",
              "      <td>Emily Althaus</td>\n",
              "      <td>Thriller Drama</td>\n",
              "      <td>the strange ones</td>\n",
              "      <td>Alex Pettyfer James Freedson-Jackson Emily Alt...</td>\n",
              "    </tr>\n",
              "    <tr>\n",
              "      <th>2</th>\n",
              "      <td>Simon West</td>\n",
              "      <td>Dominic Cooper</td>\n",
              "      <td>Austin Stowell</td>\n",
              "      <td>Gemma Chan</td>\n",
              "      <td>Action Thriller</td>\n",
              "      <td>stratton</td>\n",
              "      <td>Dominic Cooper Austin Stowell Gemma Chan Simon...</td>\n",
              "    </tr>\n",
              "    <tr>\n",
              "      <th>3</th>\n",
              "      <td>Warwick Thornton</td>\n",
              "      <td>Bryan Brown</td>\n",
              "      <td>Sam Neill</td>\n",
              "      <td>unknown</td>\n",
              "      <td>Drama History Western</td>\n",
              "      <td>sweet country</td>\n",
              "      <td>Bryan Brown Sam Neill unknown Warwick Thornton...</td>\n",
              "    </tr>\n",
              "    <tr>\n",
              "      <th>4</th>\n",
              "      <td>Jaume Collet-Serra</td>\n",
              "      <td>Liam Neeson</td>\n",
              "      <td>Vera Farmiga</td>\n",
              "      <td>Patrick Wilson</td>\n",
              "      <td>Action Thriller</td>\n",
              "      <td>the commuter</td>\n",
              "      <td>Liam Neeson Vera Farmiga Patrick Wilson Jaume ...</td>\n",
              "    </tr>\n",
              "  </tbody>\n",
              "</table>\n",
              "</div>"
            ],
            "text/plain": [
              "        director_name  ...                                               comb\n",
              "0        Adam Robitel  ...  Lin Shaye Angus Sampson Leigh Whannell Adam Ro...\n",
              "1    Lauren Wolkstein  ...  Alex Pettyfer James Freedson-Jackson Emily Alt...\n",
              "2          Simon West  ...  Dominic Cooper Austin Stowell Gemma Chan Simon...\n",
              "3    Warwick Thornton  ...  Bryan Brown Sam Neill unknown Warwick Thornton...\n",
              "4  Jaume Collet-Serra  ...  Liam Neeson Vera Farmiga Patrick Wilson Jaume ...\n",
              "\n",
              "[5 rows x 7 columns]"
            ]
          },
          "metadata": {
            "tags": []
          },
          "execution_count": 110
        }
      ]
    },
    {
      "cell_type": "code",
      "metadata": {
        "id": "cI6A3i-X2Hi7"
      },
      "source": [
        "\n",
        "link = \"https://en.wikipedia.org/wiki/List_of_American_films_of_2019\"\n",
        "df1 = pd.read_html(link, header=0)[3]\n",
        "df2 = pd.read_html(link, header=0)[4]\n",
        "df3 = pd.read_html(link, header=0)[5]\n",
        "df4 = pd.read_html(link, header=0)[6]"
      ],
      "execution_count": null,
      "outputs": []
    },
    {
      "cell_type": "code",
      "metadata": {
        "id": "a_Um28QQ2Mxe"
      },
      "source": [
        "df = df1.append(df2.append(df3.append(df4,ignore_index=True),ignore_index=True),ignore_index=True)\n"
      ],
      "execution_count": null,
      "outputs": []
    },
    {
      "cell_type": "code",
      "metadata": {
        "id": "hQVnhGn82Or6"
      },
      "source": [
        "df['genres'] = df['Title'].map(lambda x: get_genre(str(x)))\n"
      ],
      "execution_count": null,
      "outputs": []
    },
    {
      "cell_type": "code",
      "metadata": {
        "id": "wwPe0C542RsO"
      },
      "source": [
        "df_2019 = df[['Title','Cast and crew','genres']]\n"
      ],
      "execution_count": null,
      "outputs": []
    },
    {
      "cell_type": "code",
      "metadata": {
        "colab": {
          "base_uri": "https://localhost:8080/"
        },
        "id": "sIPpeSth2T5i",
        "outputId": "17ed68c2-f1da-4cf6-cdad-56b1d41e8347"
      },
      "source": [
        "df_2019['director_name'] = df_2019['Cast and crew'].map(lambda x: get_director(str(x)))\n"
      ],
      "execution_count": null,
      "outputs": [
        {
          "output_type": "stream",
          "text": [
            "/usr/local/lib/python3.6/dist-packages/ipykernel_launcher.py:1: SettingWithCopyWarning: \n",
            "A value is trying to be set on a copy of a slice from a DataFrame.\n",
            "Try using .loc[row_indexer,col_indexer] = value instead\n",
            "\n",
            "See the caveats in the documentation: https://pandas.pydata.org/pandas-docs/stable/user_guide/indexing.html#returning-a-view-versus-a-copy\n",
            "  \"\"\"Entry point for launching an IPython kernel.\n"
          ],
          "name": "stderr"
        }
      ]
    },
    {
      "cell_type": "code",
      "metadata": {
        "colab": {
          "base_uri": "https://localhost:8080/"
        },
        "id": "geeIhQQy2aH_",
        "outputId": "2fbd188d-4a18-4873-9354-f1b8b42ee219"
      },
      "source": [
        "df_2019['actor_1_name'] = df_2019['Cast and crew'].map(lambda x: get_actor1(x))\n",
        "df_2019['actor_2_name'] = df_2019['Cast and crew'].map(lambda x: get_actor2(x))\n",
        "df_2019['actor_3_name'] = df_2019['Cast and crew'].map(lambda x: get_actor3(x))\n"
      ],
      "execution_count": null,
      "outputs": [
        {
          "output_type": "stream",
          "text": [
            "/usr/local/lib/python3.6/dist-packages/ipykernel_launcher.py:1: SettingWithCopyWarning: \n",
            "A value is trying to be set on a copy of a slice from a DataFrame.\n",
            "Try using .loc[row_indexer,col_indexer] = value instead\n",
            "\n",
            "See the caveats in the documentation: https://pandas.pydata.org/pandas-docs/stable/user_guide/indexing.html#returning-a-view-versus-a-copy\n",
            "  \"\"\"Entry point for launching an IPython kernel.\n",
            "/usr/local/lib/python3.6/dist-packages/ipykernel_launcher.py:2: SettingWithCopyWarning: \n",
            "A value is trying to be set on a copy of a slice from a DataFrame.\n",
            "Try using .loc[row_indexer,col_indexer] = value instead\n",
            "\n",
            "See the caveats in the documentation: https://pandas.pydata.org/pandas-docs/stable/user_guide/indexing.html#returning-a-view-versus-a-copy\n",
            "  \n"
          ],
          "name": "stderr"
        }
      ]
    },
    {
      "cell_type": "code",
      "metadata": {
        "id": "P9PHUtbF2jCb"
      },
      "source": [
        "df_2019 = df_2019.rename(columns={'Title':'movie_title'})\n"
      ],
      "execution_count": null,
      "outputs": []
    },
    {
      "cell_type": "code",
      "metadata": {
        "id": "dkVIRn-W2jmb"
      },
      "source": [
        "new_df19 = df_2019.loc[:,['director_name','actor_1_name','actor_2_name','actor_3_name','genres','movie_title']]\n"
      ],
      "execution_count": null,
      "outputs": []
    },
    {
      "cell_type": "code",
      "metadata": {
        "id": "BATOLr102lYg"
      },
      "source": [
        "new_df19['actor_2_name'] = new_df19['actor_2_name'].replace(np.nan, 'unknown')\n",
        "new_df19['actor_3_name'] = new_df19['actor_3_name'].replace(np.nan, 'unknown')"
      ],
      "execution_count": null,
      "outputs": []
    },
    {
      "cell_type": "code",
      "metadata": {
        "id": "z1I79dvU2n8X"
      },
      "source": [
        "new_df19['movie_title'] = new_df19['movie_title'].str.lower()\n",
        "new_df19['comb'] = new_df19['actor_1_name'] + ' ' + new_df19['actor_2_name'] + ' '+ new_df19['actor_3_name'] + ' '+ new_df19['director_name'] +' ' + new_df19['genres']\n"
      ],
      "execution_count": null,
      "outputs": []
    },
    {
      "cell_type": "code",
      "metadata": {
        "colab": {
          "base_uri": "https://localhost:8080/",
          "height": 272
        },
        "id": "n6LtlrUg2tpT",
        "outputId": "2630a2a7-2765-48de-f77d-7d7bc876acff"
      },
      "source": [
        "new_df19.head()"
      ],
      "execution_count": null,
      "outputs": [
        {
          "output_type": "execute_result",
          "data": {
            "text/html": [
              "<div>\n",
              "<style scoped>\n",
              "    .dataframe tbody tr th:only-of-type {\n",
              "        vertical-align: middle;\n",
              "    }\n",
              "\n",
              "    .dataframe tbody tr th {\n",
              "        vertical-align: top;\n",
              "    }\n",
              "\n",
              "    .dataframe thead th {\n",
              "        text-align: right;\n",
              "    }\n",
              "</style>\n",
              "<table border=\"1\" class=\"dataframe\">\n",
              "  <thead>\n",
              "    <tr style=\"text-align: right;\">\n",
              "      <th></th>\n",
              "      <th>director_name</th>\n",
              "      <th>actor_1_name</th>\n",
              "      <th>actor_2_name</th>\n",
              "      <th>actor_3_name</th>\n",
              "      <th>genres</th>\n",
              "      <th>movie_title</th>\n",
              "      <th>comb</th>\n",
              "    </tr>\n",
              "  </thead>\n",
              "  <tbody>\n",
              "    <tr>\n",
              "      <th>0</th>\n",
              "      <td>Adam Robitel</td>\n",
              "      <td>Taylor Russell</td>\n",
              "      <td>Logan Miller</td>\n",
              "      <td>Deborah Ann Woll</td>\n",
              "      <td>Thriller Action Mystery Adventure Horror</td>\n",
              "      <td>escape room</td>\n",
              "      <td>Taylor Russell Logan Miller Deborah Ann Woll A...</td>\n",
              "    </tr>\n",
              "    <tr>\n",
              "      <th>1</th>\n",
              "      <td>Jen McGowan</td>\n",
              "      <td>Hermione Corfield</td>\n",
              "      <td>Jay Paulson</td>\n",
              "      <td>Sean O'Bryan</td>\n",
              "      <td>Thriller Drama</td>\n",
              "      <td>rust creek</td>\n",
              "      <td>Hermione Corfield Jay Paulson Sean O'Bryan Jen...</td>\n",
              "    </tr>\n",
              "    <tr>\n",
              "      <th>2</th>\n",
              "      <td>Wilson Coneybeare</td>\n",
              "      <td>Donald Sutherland</td>\n",
              "      <td>Vincent Kartheiser</td>\n",
              "      <td>Oliver Dennis</td>\n",
              "      <td>Thriller</td>\n",
              "      <td>american hangman</td>\n",
              "      <td>Donald Sutherland Vincent Kartheiser Oliver De...</td>\n",
              "    </tr>\n",
              "    <tr>\n",
              "      <th>3</th>\n",
              "      <td>Charles Martin Smith</td>\n",
              "      <td>Bryce Dallas Howard</td>\n",
              "      <td>Edward James Olmos</td>\n",
              "      <td>Alexandra Shipp</td>\n",
              "      <td>Drama Adventure Family</td>\n",
              "      <td>a dog's way home</td>\n",
              "      <td>Bryce Dallas Howard Edward James Olmos Alexand...</td>\n",
              "    </tr>\n",
              "    <tr>\n",
              "      <th>4</th>\n",
              "      <td>Neil Burger</td>\n",
              "      <td>Bryan Cranston</td>\n",
              "      <td>Kevin Hart</td>\n",
              "      <td>Nicole Kidman</td>\n",
              "      <td>Comedy Drama</td>\n",
              "      <td>the upside</td>\n",
              "      <td>Bryan Cranston Kevin Hart Nicole Kidman Neil B...</td>\n",
              "    </tr>\n",
              "  </tbody>\n",
              "</table>\n",
              "</div>"
            ],
            "text/plain": [
              "          director_name  ...                                               comb\n",
              "0          Adam Robitel  ...  Taylor Russell Logan Miller Deborah Ann Woll A...\n",
              "1           Jen McGowan  ...  Hermione Corfield Jay Paulson Sean O'Bryan Jen...\n",
              "2     Wilson Coneybeare  ...  Donald Sutherland Vincent Kartheiser Oliver De...\n",
              "3  Charles Martin Smith  ...  Bryce Dallas Howard Edward James Olmos Alexand...\n",
              "4           Neil Burger  ...  Bryan Cranston Kevin Hart Nicole Kidman Neil B...\n",
              "\n",
              "[5 rows x 7 columns]"
            ]
          },
          "metadata": {
            "tags": []
          },
          "execution_count": 121
        }
      ]
    },
    {
      "cell_type": "code",
      "metadata": {
        "id": "6a8Wj7kr2wN2"
      },
      "source": [
        "my_df = new_df18.append(new_df19,ignore_index=True)\n"
      ],
      "execution_count": null,
      "outputs": []
    },
    {
      "cell_type": "code",
      "metadata": {
        "colab": {
          "base_uri": "https://localhost:8080/",
          "height": 204
        },
        "id": "hNf7BhaG2zTj",
        "outputId": "df634b7d-101c-44e5-c4cf-06c752866c94"
      },
      "source": [
        "my_df.head()"
      ],
      "execution_count": null,
      "outputs": [
        {
          "output_type": "execute_result",
          "data": {
            "text/html": [
              "<div>\n",
              "<style scoped>\n",
              "    .dataframe tbody tr th:only-of-type {\n",
              "        vertical-align: middle;\n",
              "    }\n",
              "\n",
              "    .dataframe tbody tr th {\n",
              "        vertical-align: top;\n",
              "    }\n",
              "\n",
              "    .dataframe thead th {\n",
              "        text-align: right;\n",
              "    }\n",
              "</style>\n",
              "<table border=\"1\" class=\"dataframe\">\n",
              "  <thead>\n",
              "    <tr style=\"text-align: right;\">\n",
              "      <th></th>\n",
              "      <th>director_name</th>\n",
              "      <th>actor_1_name</th>\n",
              "      <th>actor_2_name</th>\n",
              "      <th>actor_3_name</th>\n",
              "      <th>genres</th>\n",
              "      <th>movie_title</th>\n",
              "      <th>comb</th>\n",
              "    </tr>\n",
              "  </thead>\n",
              "  <tbody>\n",
              "    <tr>\n",
              "      <th>0</th>\n",
              "      <td>Adam Robitel</td>\n",
              "      <td>Lin Shaye</td>\n",
              "      <td>Angus Sampson</td>\n",
              "      <td>Leigh Whannell</td>\n",
              "      <td>Horror Mystery Thriller</td>\n",
              "      <td>insidious: the last key</td>\n",
              "      <td>Lin Shaye Angus Sampson Leigh Whannell Adam Ro...</td>\n",
              "    </tr>\n",
              "    <tr>\n",
              "      <th>1</th>\n",
              "      <td>Lauren Wolkstein</td>\n",
              "      <td>Alex Pettyfer</td>\n",
              "      <td>James Freedson-Jackson</td>\n",
              "      <td>Emily Althaus</td>\n",
              "      <td>Thriller Drama</td>\n",
              "      <td>the strange ones</td>\n",
              "      <td>Alex Pettyfer James Freedson-Jackson Emily Alt...</td>\n",
              "    </tr>\n",
              "    <tr>\n",
              "      <th>2</th>\n",
              "      <td>Simon West</td>\n",
              "      <td>Dominic Cooper</td>\n",
              "      <td>Austin Stowell</td>\n",
              "      <td>Gemma Chan</td>\n",
              "      <td>Action Thriller</td>\n",
              "      <td>stratton</td>\n",
              "      <td>Dominic Cooper Austin Stowell Gemma Chan Simon...</td>\n",
              "    </tr>\n",
              "    <tr>\n",
              "      <th>3</th>\n",
              "      <td>Warwick Thornton</td>\n",
              "      <td>Bryan Brown</td>\n",
              "      <td>Sam Neill</td>\n",
              "      <td>unknown</td>\n",
              "      <td>Drama History Western</td>\n",
              "      <td>sweet country</td>\n",
              "      <td>Bryan Brown Sam Neill unknown Warwick Thornton...</td>\n",
              "    </tr>\n",
              "    <tr>\n",
              "      <th>4</th>\n",
              "      <td>Jaume Collet-Serra</td>\n",
              "      <td>Liam Neeson</td>\n",
              "      <td>Vera Farmiga</td>\n",
              "      <td>Patrick Wilson</td>\n",
              "      <td>Action Thriller</td>\n",
              "      <td>the commuter</td>\n",
              "      <td>Liam Neeson Vera Farmiga Patrick Wilson Jaume ...</td>\n",
              "    </tr>\n",
              "  </tbody>\n",
              "</table>\n",
              "</div>"
            ],
            "text/plain": [
              "        director_name  ...                                               comb\n",
              "0        Adam Robitel  ...  Lin Shaye Angus Sampson Leigh Whannell Adam Ro...\n",
              "1    Lauren Wolkstein  ...  Alex Pettyfer James Freedson-Jackson Emily Alt...\n",
              "2          Simon West  ...  Dominic Cooper Austin Stowell Gemma Chan Simon...\n",
              "3    Warwick Thornton  ...  Bryan Brown Sam Neill unknown Warwick Thornton...\n",
              "4  Jaume Collet-Serra  ...  Liam Neeson Vera Farmiga Patrick Wilson Jaume ...\n",
              "\n",
              "[5 rows x 7 columns]"
            ]
          },
          "metadata": {
            "tags": []
          },
          "execution_count": 123
        }
      ]
    },
    {
      "cell_type": "code",
      "metadata": {
        "id": "3JlYqboY22co"
      },
      "source": [
        "old_df = pd.read_csv('/content/drive/MyDrive/movie.csv')\n"
      ],
      "execution_count": null,
      "outputs": []
    },
    {
      "cell_type": "code",
      "metadata": {
        "id": "IVtvfy6u2-D9"
      },
      "source": [
        "final_df = old_df.append(my_df,ignore_index=True)\n"
      ],
      "execution_count": null,
      "outputs": []
    },
    {
      "cell_type": "code",
      "metadata": {
        "colab": {
          "base_uri": "https://localhost:8080/",
          "height": 289
        },
        "id": "Bdib8KTc3BKm",
        "outputId": "160839c1-a1fb-4810-b8ba-51f7110bc9ff"
      },
      "source": [
        "final_df.head()"
      ],
      "execution_count": null,
      "outputs": [
        {
          "output_type": "execute_result",
          "data": {
            "text/html": [
              "<div>\n",
              "<style scoped>\n",
              "    .dataframe tbody tr th:only-of-type {\n",
              "        vertical-align: middle;\n",
              "    }\n",
              "\n",
              "    .dataframe tbody tr th {\n",
              "        vertical-align: top;\n",
              "    }\n",
              "\n",
              "    .dataframe thead th {\n",
              "        text-align: right;\n",
              "    }\n",
              "</style>\n",
              "<table border=\"1\" class=\"dataframe\">\n",
              "  <thead>\n",
              "    <tr style=\"text-align: right;\">\n",
              "      <th></th>\n",
              "      <th>director_name</th>\n",
              "      <th>actor_1_name</th>\n",
              "      <th>actor_2_name</th>\n",
              "      <th>actor_3_name</th>\n",
              "      <th>genres</th>\n",
              "      <th>movie_title</th>\n",
              "      <th>comb</th>\n",
              "    </tr>\n",
              "  </thead>\n",
              "  <tbody>\n",
              "    <tr>\n",
              "      <th>0</th>\n",
              "      <td>Joachim Rønning Espen Sandberg</td>\n",
              "      <td>Johnny Depp</td>\n",
              "      <td>Javier Bardem</td>\n",
              "      <td>Geoffrey Rush</td>\n",
              "      <td>Adventure Action Fantasy Comedy</td>\n",
              "      <td>pirates of the caribbean: dead men tell no tales</td>\n",
              "      <td>Johnny Depp Javier Bardem Geoffrey Rush Joachi...</td>\n",
              "    </tr>\n",
              "    <tr>\n",
              "      <th>1</th>\n",
              "      <td>Zack Snyder</td>\n",
              "      <td>Ben Affleck</td>\n",
              "      <td>Henry Cavill</td>\n",
              "      <td>Gal Gadot</td>\n",
              "      <td>Action Adventure Fantasy Sci-Fi</td>\n",
              "      <td>justice league</td>\n",
              "      <td>Ben Affleck Henry Cavill Gal Gadot Zack Snyder...</td>\n",
              "    </tr>\n",
              "    <tr>\n",
              "      <th>2</th>\n",
              "      <td>Taika Waititi</td>\n",
              "      <td>Chris Hemsworth</td>\n",
              "      <td>Tom Hiddleston</td>\n",
              "      <td>Cate Blanchett</td>\n",
              "      <td>Action Adventure Fantasy Sci-Fi</td>\n",
              "      <td>thor: ragnarok</td>\n",
              "      <td>Chris Hemsworth Tom Hiddleston Cate Blanchett ...</td>\n",
              "    </tr>\n",
              "    <tr>\n",
              "      <th>3</th>\n",
              "      <td>James Gunn</td>\n",
              "      <td>Chris Pratt</td>\n",
              "      <td>Zoe Saldana</td>\n",
              "      <td>Dave Bautista</td>\n",
              "      <td>Action Adventure Comedy Sci-Fi</td>\n",
              "      <td>guardians of the galaxy vol. 2</td>\n",
              "      <td>Chris Pratt Zoe Saldana Dave Bautista James Gu...</td>\n",
              "    </tr>\n",
              "    <tr>\n",
              "      <th>4</th>\n",
              "      <td>Sean McNamara</td>\n",
              "      <td>Pierce Brosnan</td>\n",
              "      <td>William Hurt</td>\n",
              "      <td>Benjamin Walker</td>\n",
              "      <td>Fantasy Action Adventure</td>\n",
              "      <td>the king's daughter</td>\n",
              "      <td>Pierce Brosnan William Hurt Benjamin Walker Se...</td>\n",
              "    </tr>\n",
              "  </tbody>\n",
              "</table>\n",
              "</div>"
            ],
            "text/plain": [
              "                    director_name  ...                                               comb\n",
              "0  Joachim Rønning Espen Sandberg  ...  Johnny Depp Javier Bardem Geoffrey Rush Joachi...\n",
              "1                     Zack Snyder  ...  Ben Affleck Henry Cavill Gal Gadot Zack Snyder...\n",
              "2                   Taika Waititi  ...  Chris Hemsworth Tom Hiddleston Cate Blanchett ...\n",
              "3                      James Gunn  ...  Chris Pratt Zoe Saldana Dave Bautista James Gu...\n",
              "4                   Sean McNamara  ...  Pierce Brosnan William Hurt Benjamin Walker Se...\n",
              "\n",
              "[5 rows x 7 columns]"
            ]
          },
          "metadata": {
            "tags": []
          },
          "execution_count": 126
        }
      ]
    },
    {
      "cell_type": "code",
      "metadata": {
        "colab": {
          "base_uri": "https://localhost:8080/"
        },
        "id": "JDpnXlLl3F45",
        "outputId": "cd42c0c2-0d1c-4686-ebc1-22ceecf11736"
      },
      "source": [
        "final_df.isna().sum()\n"
      ],
      "execution_count": null,
      "outputs": [
        {
          "output_type": "execute_result",
          "data": {
            "text/plain": [
              "director_name    0\n",
              "actor_1_name     0\n",
              "actor_2_name     0\n",
              "actor_3_name     0\n",
              "genres           3\n",
              "movie_title      0\n",
              "comb             3\n",
              "dtype: int64"
            ]
          },
          "metadata": {
            "tags": []
          },
          "execution_count": 127
        }
      ]
    },
    {
      "cell_type": "code",
      "metadata": {
        "id": "5pmT7ka63GQ0"
      },
      "source": [
        "final_df = final_df.dropna(how='any')\n"
      ],
      "execution_count": null,
      "outputs": []
    },
    {
      "cell_type": "code",
      "metadata": {
        "id": "zIwIEkD03Joi"
      },
      "source": [
        "final_df.to_csv('/content/drive/MyDrive/final_data.csv',index=False)"
      ],
      "execution_count": null,
      "outputs": []
    },
    {
      "cell_type": "code",
      "metadata": {
        "id": "7-RB55cq4G-a"
      },
      "source": [
        "\n",
        "import pandas as pd\n",
        "import numpy as np\n",
        "import requests\n",
        "import bs4 as bs\n",
        "import urllib.request\n"
      ],
      "execution_count": null,
      "outputs": []
    },
    {
      "cell_type": "code",
      "metadata": {
        "id": "GjppzNHHWvjV"
      },
      "source": [
        "link = \"https://en.wikipedia.org/wiki/List_of_American_films_of_2020\"\n",
        "source = urllib.request.urlopen(link).read() #get source code \n",
        "soup = bs.BeautifulSoup(source,'lxml')\n",
        "\n",
        "tables = soup.find_all('table',class_='wikitable sortable')"
      ],
      "execution_count": null,
      "outputs": []
    },
    {
      "cell_type": "code",
      "metadata": {
        "id": "Rvpuy8183M9e"
      },
      "source": [
        "\n",
        "df1 = pd.read_html(str(tables[0]))[0]\n",
        "df2 = pd.read_html(str(tables[1]))[0]\n",
        "df3 = pd.read_html(str(tables[2]))[0]\n",
        "df4 = pd.read_html(str(tables[3]).replace(\"'1\\\"\\'\",'\"1\"'))[0] # avoided \"ValueError: invalid literal for int() with base 10: '1\"'\n",
        "df = df1.append(df2.append(df3.append(df4,ignore_index=True),ignore_index=True),ignore_index=True)\n"
      ],
      "execution_count": null,
      "outputs": []
    },
    {
      "cell_type": "code",
      "metadata": {
        "colab": {
          "base_uri": "https://localhost:8080/",
          "height": 204
        },
        "id": "YXNwdcaj3_-W",
        "outputId": "920675e1-4095-41c9-c3f0-8602fd86e1bb"
      },
      "source": [
        "df.head()"
      ],
      "execution_count": null,
      "outputs": [
        {
          "output_type": "execute_result",
          "data": {
            "text/html": [
              "<div>\n",
              "<style scoped>\n",
              "    .dataframe tbody tr th:only-of-type {\n",
              "        vertical-align: middle;\n",
              "    }\n",
              "\n",
              "    .dataframe tbody tr th {\n",
              "        vertical-align: top;\n",
              "    }\n",
              "\n",
              "    .dataframe thead th {\n",
              "        text-align: right;\n",
              "    }\n",
              "</style>\n",
              "<table border=\"1\" class=\"dataframe\">\n",
              "  <thead>\n",
              "    <tr style=\"text-align: right;\">\n",
              "      <th></th>\n",
              "      <th>Opening</th>\n",
              "      <th>Opening.1</th>\n",
              "      <th>Title</th>\n",
              "      <th>Production company</th>\n",
              "      <th>Cast and crew</th>\n",
              "      <th>Ref.</th>\n",
              "    </tr>\n",
              "  </thead>\n",
              "  <tbody>\n",
              "    <tr>\n",
              "      <th>0</th>\n",
              "      <td>JANUARY</td>\n",
              "      <td>3</td>\n",
              "      <td>The Grudge</td>\n",
              "      <td>Screen Gems / Stage 6 Films / Ghost House Pict...</td>\n",
              "      <td>Nicolas Pesce (director/screenplay); Andrea Ri...</td>\n",
              "      <td>[2]</td>\n",
              "    </tr>\n",
              "    <tr>\n",
              "      <th>1</th>\n",
              "      <td>JANUARY</td>\n",
              "      <td>10</td>\n",
              "      <td>Underwater</td>\n",
              "      <td>20th Century Fox / TSG Entertainment / Chernin...</td>\n",
              "      <td>William Eubank (director); Brian Duffield, Ada...</td>\n",
              "      <td>[3]</td>\n",
              "    </tr>\n",
              "    <tr>\n",
              "      <th>2</th>\n",
              "      <td>JANUARY</td>\n",
              "      <td>10</td>\n",
              "      <td>Like a Boss</td>\n",
              "      <td>Paramount Pictures</td>\n",
              "      <td>Miguel Arteta (director); Sam Pitman, Adam Col...</td>\n",
              "      <td>[4]</td>\n",
              "    </tr>\n",
              "    <tr>\n",
              "      <th>3</th>\n",
              "      <td>JANUARY</td>\n",
              "      <td>10</td>\n",
              "      <td>Three Christs</td>\n",
              "      <td>IFC Films</td>\n",
              "      <td>Jon Avnet (director/screenplay); Eric Nazarian...</td>\n",
              "      <td>NaN</td>\n",
              "    </tr>\n",
              "    <tr>\n",
              "      <th>4</th>\n",
              "      <td>JANUARY</td>\n",
              "      <td>10</td>\n",
              "      <td>Inherit the Viper</td>\n",
              "      <td>Barry Films / Tycor International Film Company</td>\n",
              "      <td>Anthony Jerjen (director); Andrew Crabtree (sc...</td>\n",
              "      <td>[5]</td>\n",
              "    </tr>\n",
              "  </tbody>\n",
              "</table>\n",
              "</div>"
            ],
            "text/plain": [
              "   Opening  Opening.1  ...                                      Cast and crew Ref.\n",
              "0  JANUARY          3  ...  Nicolas Pesce (director/screenplay); Andrea Ri...  [2]\n",
              "1  JANUARY         10  ...  William Eubank (director); Brian Duffield, Ada...  [3]\n",
              "2  JANUARY         10  ...  Miguel Arteta (director); Sam Pitman, Adam Col...  [4]\n",
              "3  JANUARY         10  ...  Jon Avnet (director/screenplay); Eric Nazarian...  NaN\n",
              "4  JANUARY         10  ...  Anthony Jerjen (director); Andrew Crabtree (sc...  [5]\n",
              "\n",
              "[5 rows x 6 columns]"
            ]
          },
          "metadata": {
            "tags": []
          },
          "execution_count": 139
        }
      ]
    },
    {
      "cell_type": "code",
      "metadata": {
        "id": "_-z0Zfrb4THD"
      },
      "source": [
        "df_2020 = df[['Title','Cast and crew']]\n"
      ],
      "execution_count": null,
      "outputs": []
    },
    {
      "cell_type": "code",
      "metadata": {
        "colab": {
          "base_uri": "https://localhost:8080/"
        },
        "id": "xIi0IMqR4WYF",
        "outputId": "52236267-0510-4fa4-ad56-14cbea03410e"
      },
      "source": [
        "df_2020['genres'] = df_2020['Title'].map(lambda x: get_genre(str(x)))\n"
      ],
      "execution_count": null,
      "outputs": [
        {
          "output_type": "stream",
          "text": [
            "/usr/local/lib/python3.6/dist-packages/ipykernel_launcher.py:1: SettingWithCopyWarning: \n",
            "A value is trying to be set on a copy of a slice from a DataFrame.\n",
            "Try using .loc[row_indexer,col_indexer] = value instead\n",
            "\n",
            "See the caveats in the documentation: https://pandas.pydata.org/pandas-docs/stable/user_guide/indexing.html#returning-a-view-versus-a-copy\n",
            "  \"\"\"Entry point for launching an IPython kernel.\n"
          ],
          "name": "stderr"
        }
      ]
    },
    {
      "cell_type": "code",
      "metadata": {
        "id": "uGB41MSX4cp_",
        "colab": {
          "base_uri": "https://localhost:8080/",
          "height": 204
        },
        "outputId": "444ac225-a5ae-4095-c759-9ac5f8e12e05"
      },
      "source": [
        "df_2020.head()"
      ],
      "execution_count": null,
      "outputs": [
        {
          "output_type": "execute_result",
          "data": {
            "text/html": [
              "<div>\n",
              "<style scoped>\n",
              "    .dataframe tbody tr th:only-of-type {\n",
              "        vertical-align: middle;\n",
              "    }\n",
              "\n",
              "    .dataframe tbody tr th {\n",
              "        vertical-align: top;\n",
              "    }\n",
              "\n",
              "    .dataframe thead th {\n",
              "        text-align: right;\n",
              "    }\n",
              "</style>\n",
              "<table border=\"1\" class=\"dataframe\">\n",
              "  <thead>\n",
              "    <tr style=\"text-align: right;\">\n",
              "      <th></th>\n",
              "      <th>Title</th>\n",
              "      <th>Cast and crew</th>\n",
              "      <th>genres</th>\n",
              "    </tr>\n",
              "  </thead>\n",
              "  <tbody>\n",
              "    <tr>\n",
              "      <th>0</th>\n",
              "      <td>The Grudge</td>\n",
              "      <td>Nicolas Pesce (director/screenplay); Andrea Ri...</td>\n",
              "      <td>Horror Mystery Thriller</td>\n",
              "    </tr>\n",
              "    <tr>\n",
              "      <th>1</th>\n",
              "      <td>Underwater</td>\n",
              "      <td>William Eubank (director); Brian Duffield, Ada...</td>\n",
              "      <td>Action Horror Science Fiction Thriller</td>\n",
              "    </tr>\n",
              "    <tr>\n",
              "      <th>2</th>\n",
              "      <td>Like a Boss</td>\n",
              "      <td>Miguel Arteta (director); Sam Pitman, Adam Col...</td>\n",
              "      <td>Comedy</td>\n",
              "    </tr>\n",
              "    <tr>\n",
              "      <th>3</th>\n",
              "      <td>Three Christs</td>\n",
              "      <td>Jon Avnet (director/screenplay); Eric Nazarian...</td>\n",
              "      <td>Drama</td>\n",
              "    </tr>\n",
              "    <tr>\n",
              "      <th>4</th>\n",
              "      <td>Inherit the Viper</td>\n",
              "      <td>Anthony Jerjen (director); Andrew Crabtree (sc...</td>\n",
              "      <td>Drama Thriller Crime</td>\n",
              "    </tr>\n",
              "  </tbody>\n",
              "</table>\n",
              "</div>"
            ],
            "text/plain": [
              "               Title  ...                                  genres\n",
              "0         The Grudge  ...                 Horror Mystery Thriller\n",
              "1         Underwater  ...  Action Horror Science Fiction Thriller\n",
              "2        Like a Boss  ...                                  Comedy\n",
              "3      Three Christs  ...                                   Drama\n",
              "4  Inherit the Viper  ...                    Drama Thriller Crime\n",
              "\n",
              "[5 rows x 3 columns]"
            ]
          },
          "metadata": {
            "tags": []
          },
          "execution_count": 145
        }
      ]
    },
    {
      "cell_type": "code",
      "metadata": {
        "colab": {
          "base_uri": "https://localhost:8080/"
        },
        "id": "3my0wu39aM4z",
        "outputId": "7245298b-69dc-45b2-b055-17830d2fee35"
      },
      "source": [
        "df_2020.info()"
      ],
      "execution_count": null,
      "outputs": [
        {
          "output_type": "stream",
          "text": [
            "<class 'pandas.core.frame.DataFrame'>\n",
            "Int64Index: 269 entries, 0 to 269\n",
            "Data columns (total 3 columns):\n",
            " #   Column         Non-Null Count  Dtype \n",
            "---  ------         --------------  ----- \n",
            " 0   Title          269 non-null    object\n",
            " 1   Cast and crew  269 non-null    object\n",
            " 2   genres         269 non-null    object\n",
            "dtypes: object(3)\n",
            "memory usage: 8.4+ KB\n"
          ],
          "name": "stdout"
        }
      ]
    },
    {
      "cell_type": "code",
      "metadata": {
        "id": "fMvGGgyNaf6f"
      },
      "source": [
        "df_2020 = df_2020.dropna(how='any')"
      ],
      "execution_count": null,
      "outputs": []
    },
    {
      "cell_type": "code",
      "metadata": {
        "id": "Yg9iFqVC4iJV"
      },
      "source": [
        "def get_director(x):\n",
        "    if \" (director)\" in x:\n",
        "        return x.split(\" (director)\")[0]\n",
        "    elif \" (directors)\" in x:\n",
        "        return x.split(\" (directors)\")[0]\n",
        "    else:\n",
        "        return x.split(\" (director/screenplay)\")[0]"
      ],
      "execution_count": null,
      "outputs": []
    },
    {
      "cell_type": "code",
      "metadata": {
        "id": "INv9vulh4ig7"
      },
      "source": [
        "df_2020['director_name'] = df_2020['Cast and crew'].map(lambda x: get_director(str(x)))\n"
      ],
      "execution_count": null,
      "outputs": []
    },
    {
      "cell_type": "code",
      "metadata": {
        "id": "H4qxqhbQ4mP7"
      },
      "source": [
        "def get_actor1(x):\n",
        "    return ((x.split(\"screenplay); \")[-1]).split(\", \")[0])"
      ],
      "execution_count": null,
      "outputs": []
    },
    {
      "cell_type": "code",
      "metadata": {
        "id": "ayLrMKZe4pLa"
      },
      "source": [
        "df_2020['actor_1_name'] = df_2020['Cast and crew'].map(lambda x: get_actor1(str(x)))\n"
      ],
      "execution_count": null,
      "outputs": []
    },
    {
      "cell_type": "code",
      "metadata": {
        "id": "ge2nuYGL4sZv"
      },
      "source": [
        "def get_actor2(x):\n",
        "    if len((x.split(\"screenplay); \")[-1]).split(\", \")) < 2:\n",
        "        return np.NaN\n",
        "    else:\n",
        "        return ((x.split(\"screenplay); \")[-1]).split(\", \")[1])\n",
        "df_2020['actor_2_name'] = df_2020['Cast and crew'].map(lambda x: get_actor2(str(x)))\n"
      ],
      "execution_count": null,
      "outputs": []
    },
    {
      "cell_type": "code",
      "metadata": {
        "id": "tA8c3tag4x69"
      },
      "source": [
        "def get_actor3(x):\n",
        "    if len((x.split(\"screenplay); \")[-1]).split(\", \")) < 3:\n",
        "        return np.NaN\n",
        "    else:\n",
        "        return ((x.split(\"screenplay); \")[-1]).split(\", \")[2])"
      ],
      "execution_count": null,
      "outputs": []
    },
    {
      "cell_type": "code",
      "metadata": {
        "id": "-ORJYUG_40Az"
      },
      "source": [
        "df_2020['actor_3_name'] = df_2020['Cast and crew'].map(lambda x: get_actor3(str(x)))\n"
      ],
      "execution_count": null,
      "outputs": []
    },
    {
      "cell_type": "code",
      "metadata": {
        "id": "DGjIxXjr41tI"
      },
      "source": [
        "df_2020 = df_2020.rename(columns={'Title':'movie_title'})\n"
      ],
      "execution_count": null,
      "outputs": []
    },
    {
      "cell_type": "code",
      "metadata": {
        "colab": {
          "base_uri": "https://localhost:8080/",
          "height": 204
        },
        "id": "x0qYDtPMb1l_",
        "outputId": "51db6b33-8e56-429b-bc8f-514eaa117d90"
      },
      "source": [
        "df_2020.head()"
      ],
      "execution_count": null,
      "outputs": [
        {
          "output_type": "execute_result",
          "data": {
            "text/html": [
              "<div>\n",
              "<style scoped>\n",
              "    .dataframe tbody tr th:only-of-type {\n",
              "        vertical-align: middle;\n",
              "    }\n",
              "\n",
              "    .dataframe tbody tr th {\n",
              "        vertical-align: top;\n",
              "    }\n",
              "\n",
              "    .dataframe thead th {\n",
              "        text-align: right;\n",
              "    }\n",
              "</style>\n",
              "<table border=\"1\" class=\"dataframe\">\n",
              "  <thead>\n",
              "    <tr style=\"text-align: right;\">\n",
              "      <th></th>\n",
              "      <th>movie_title</th>\n",
              "      <th>Cast and crew</th>\n",
              "      <th>genres</th>\n",
              "      <th>director_name</th>\n",
              "      <th>actor_1_name</th>\n",
              "      <th>actor_2_name</th>\n",
              "      <th>actor_3_name</th>\n",
              "    </tr>\n",
              "  </thead>\n",
              "  <tbody>\n",
              "    <tr>\n",
              "      <th>0</th>\n",
              "      <td>The Grudge</td>\n",
              "      <td>Nicolas Pesce (director/screenplay); Andrea Ri...</td>\n",
              "      <td>Horror Mystery Thriller</td>\n",
              "      <td>Nicolas Pesce</td>\n",
              "      <td>Andrea Riseborough</td>\n",
              "      <td>Demián Bichir</td>\n",
              "      <td>John Cho</td>\n",
              "    </tr>\n",
              "    <tr>\n",
              "      <th>1</th>\n",
              "      <td>Underwater</td>\n",
              "      <td>William Eubank (director); Brian Duffield, Ada...</td>\n",
              "      <td>Action Horror Science Fiction Thriller</td>\n",
              "      <td>William Eubank</td>\n",
              "      <td>Kristen Stewart</td>\n",
              "      <td>Vincent Cassel</td>\n",
              "      <td>Jessica Henwick</td>\n",
              "    </tr>\n",
              "    <tr>\n",
              "      <th>2</th>\n",
              "      <td>Like a Boss</td>\n",
              "      <td>Miguel Arteta (director); Sam Pitman, Adam Col...</td>\n",
              "      <td>Comedy</td>\n",
              "      <td>Miguel Arteta</td>\n",
              "      <td>Tiffany Haddish</td>\n",
              "      <td>Rose Byrne</td>\n",
              "      <td>Salma Hayek</td>\n",
              "    </tr>\n",
              "    <tr>\n",
              "      <th>3</th>\n",
              "      <td>Three Christs</td>\n",
              "      <td>Jon Avnet (director/screenplay); Eric Nazarian...</td>\n",
              "      <td>Drama</td>\n",
              "      <td>Jon Avnet</td>\n",
              "      <td>Richard Gere</td>\n",
              "      <td>Peter Dinklage</td>\n",
              "      <td>Walton Goggins</td>\n",
              "    </tr>\n",
              "    <tr>\n",
              "      <th>4</th>\n",
              "      <td>Inherit the Viper</td>\n",
              "      <td>Anthony Jerjen (director); Andrew Crabtree (sc...</td>\n",
              "      <td>Drama Thriller Crime</td>\n",
              "      <td>Anthony Jerjen</td>\n",
              "      <td>Josh Hartnett</td>\n",
              "      <td>Margarita Levieva</td>\n",
              "      <td>Chandler Riggs</td>\n",
              "    </tr>\n",
              "  </tbody>\n",
              "</table>\n",
              "</div>"
            ],
            "text/plain": [
              "         movie_title  ...     actor_3_name\n",
              "0         The Grudge  ...         John Cho\n",
              "1         Underwater  ...  Jessica Henwick\n",
              "2        Like a Boss  ...      Salma Hayek\n",
              "3      Three Christs  ...   Walton Goggins\n",
              "4  Inherit the Viper  ...   Chandler Riggs\n",
              "\n",
              "[5 rows x 7 columns]"
            ]
          },
          "metadata": {
            "tags": []
          },
          "execution_count": 167
        }
      ]
    },
    {
      "cell_type": "code",
      "metadata": {
        "id": "WfRthpd2bvF7"
      },
      "source": [
        "df_2020 = df_2020.iloc[: , [0,2,3,4,5,6]]"
      ],
      "execution_count": null,
      "outputs": []
    },
    {
      "cell_type": "code",
      "metadata": {
        "colab": {
          "base_uri": "https://localhost:8080/",
          "height": 204
        },
        "id": "NqIQ8jvr4_yK",
        "outputId": "c782ec5f-df8f-4068-d465-9ccf632f0c1f"
      },
      "source": [
        "df_2020.head()"
      ],
      "execution_count": null,
      "outputs": [
        {
          "output_type": "execute_result",
          "data": {
            "text/html": [
              "<div>\n",
              "<style scoped>\n",
              "    .dataframe tbody tr th:only-of-type {\n",
              "        vertical-align: middle;\n",
              "    }\n",
              "\n",
              "    .dataframe tbody tr th {\n",
              "        vertical-align: top;\n",
              "    }\n",
              "\n",
              "    .dataframe thead th {\n",
              "        text-align: right;\n",
              "    }\n",
              "</style>\n",
              "<table border=\"1\" class=\"dataframe\">\n",
              "  <thead>\n",
              "    <tr style=\"text-align: right;\">\n",
              "      <th></th>\n",
              "      <th>movie_title</th>\n",
              "      <th>genres</th>\n",
              "      <th>director_name</th>\n",
              "      <th>actor_1_name</th>\n",
              "      <th>actor_2_name</th>\n",
              "      <th>actor_3_name</th>\n",
              "    </tr>\n",
              "  </thead>\n",
              "  <tbody>\n",
              "    <tr>\n",
              "      <th>0</th>\n",
              "      <td>The Grudge</td>\n",
              "      <td>Horror Mystery Thriller</td>\n",
              "      <td>Nicolas Pesce</td>\n",
              "      <td>Andrea Riseborough</td>\n",
              "      <td>Demián Bichir</td>\n",
              "      <td>John Cho</td>\n",
              "    </tr>\n",
              "    <tr>\n",
              "      <th>1</th>\n",
              "      <td>Underwater</td>\n",
              "      <td>Action Horror Science Fiction Thriller</td>\n",
              "      <td>William Eubank</td>\n",
              "      <td>Kristen Stewart</td>\n",
              "      <td>Vincent Cassel</td>\n",
              "      <td>Jessica Henwick</td>\n",
              "    </tr>\n",
              "    <tr>\n",
              "      <th>2</th>\n",
              "      <td>Like a Boss</td>\n",
              "      <td>Comedy</td>\n",
              "      <td>Miguel Arteta</td>\n",
              "      <td>Tiffany Haddish</td>\n",
              "      <td>Rose Byrne</td>\n",
              "      <td>Salma Hayek</td>\n",
              "    </tr>\n",
              "    <tr>\n",
              "      <th>3</th>\n",
              "      <td>Three Christs</td>\n",
              "      <td>Drama</td>\n",
              "      <td>Jon Avnet</td>\n",
              "      <td>Richard Gere</td>\n",
              "      <td>Peter Dinklage</td>\n",
              "      <td>Walton Goggins</td>\n",
              "    </tr>\n",
              "    <tr>\n",
              "      <th>4</th>\n",
              "      <td>Inherit the Viper</td>\n",
              "      <td>Drama Thriller Crime</td>\n",
              "      <td>Anthony Jerjen</td>\n",
              "      <td>Josh Hartnett</td>\n",
              "      <td>Margarita Levieva</td>\n",
              "      <td>Chandler Riggs</td>\n",
              "    </tr>\n",
              "  </tbody>\n",
              "</table>\n",
              "</div>"
            ],
            "text/plain": [
              "         movie_title  ...     actor_3_name\n",
              "0         The Grudge  ...         John Cho\n",
              "1         Underwater  ...  Jessica Henwick\n",
              "2        Like a Boss  ...      Salma Hayek\n",
              "3      Three Christs  ...   Walton Goggins\n",
              "4  Inherit the Viper  ...   Chandler Riggs\n",
              "\n",
              "[5 rows x 6 columns]"
            ]
          },
          "metadata": {
            "tags": []
          },
          "execution_count": 171
        }
      ]
    },
    {
      "cell_type": "code",
      "metadata": {
        "id": "GCAh2k7UcQgj"
      },
      "source": [
        "df_2020['comb'] = df_2020.actor_1_name+' ' + df_2020.actor_2_name+' '+df_2020.actor_1_name+' '+df_2020.genres"
      ],
      "execution_count": null,
      "outputs": []
    },
    {
      "cell_type": "code",
      "metadata": {
        "id": "MEuEn71gcsnx"
      },
      "source": [
        "df_2020 = df_2020.replace(np.nan , 'Unknown')"
      ],
      "execution_count": null,
      "outputs": []
    },
    {
      "cell_type": "code",
      "metadata": {
        "colab": {
          "base_uri": "https://localhost:8080/"
        },
        "id": "3dLycISvdhE4",
        "outputId": "7bcf08a4-0c81-408a-f674-385db82c3c40"
      },
      "source": [
        "df_2020.isnull().sum()"
      ],
      "execution_count": null,
      "outputs": [
        {
          "output_type": "execute_result",
          "data": {
            "text/plain": [
              "movie_title      0\n",
              "genres           0\n",
              "director_name    0\n",
              "actor_1_name     0\n",
              "actor_2_name     0\n",
              "actor_3_name     0\n",
              "comb             0\n",
              "dtype: int64"
            ]
          },
          "metadata": {
            "tags": []
          },
          "execution_count": 181
        }
      ]
    },
    {
      "cell_type": "code",
      "metadata": {
        "id": "YS_5mzzid2bq"
      },
      "source": [
        "df_2020['movie_title'] = df_2020['movie_title'].str.lower()"
      ],
      "execution_count": null,
      "outputs": []
    },
    {
      "cell_type": "code",
      "metadata": {
        "id": "bQffjlWGeDW5"
      },
      "source": [
        "old_df = pd.read_csv('/content/drive/MyDrive/final_data.csv')"
      ],
      "execution_count": null,
      "outputs": []
    },
    {
      "cell_type": "code",
      "metadata": {
        "id": "_NlOrOoZeNrp"
      },
      "source": [
        "main_df = old_df.append(df_2020,ignore_index= True)"
      ],
      "execution_count": null,
      "outputs": []
    },
    {
      "cell_type": "code",
      "metadata": {
        "id": "0pzjsLN4ehQq"
      },
      "source": [
        "main_df.to_csv('/content/drive/MyDrive/main_data.csv')"
      ],
      "execution_count": null,
      "outputs": []
    },
    {
      "cell_type": "markdown",
      "metadata": {
        "id": "viPCiWtCU0XC"
      },
      "source": [
        "**Sentiments**"
      ]
    },
    {
      "cell_type": "code",
      "metadata": {
        "id": "Z7ZyweJ_5XDN"
      },
      "source": [
        "\n",
        "import pandas as pd\n",
        "import numpy as np\n",
        "import nltk\n",
        "from nltk.corpus import stopwords\n",
        "from sklearn.feature_extraction.text import TfidfVectorizer\n",
        "from sklearn.model_selection import train_test_split\n",
        "from sklearn import naive_bayes\n",
        "from sklearn.metrics import roc_auc_score,accuracy_score\n",
        "import pickle"
      ],
      "execution_count": null,
      "outputs": []
    },
    {
      "cell_type": "code",
      "metadata": {
        "colab": {
          "base_uri": "https://localhost:8080/"
        },
        "id": "ZhOEKggsU6pQ",
        "outputId": "fe558520-6ea1-42ff-e959-299d1ebf671c"
      },
      "source": [
        "nltk.download(\"stopwords\")\n"
      ],
      "execution_count": null,
      "outputs": [
        {
          "output_type": "stream",
          "text": [
            "[nltk_data] Downloading package stopwords to /root/nltk_data...\n",
            "[nltk_data]   Unzipping corpora/stopwords.zip.\n"
          ],
          "name": "stdout"
        },
        {
          "output_type": "execute_result",
          "data": {
            "text/plain": [
              "True"
            ]
          },
          "metadata": {
            "tags": []
          },
          "execution_count": 7
        }
      ]
    },
    {
      "cell_type": "code",
      "metadata": {
        "id": "JKu0S7AuU_1y"
      },
      "source": [
        "import pandas as pd \n",
        "dataset = pd.read_csv('/content/drive/MyDrive/reviews.txt',sep = '\\t', names =['Reviews','Comments'])"
      ],
      "execution_count": null,
      "outputs": []
    },
    {
      "cell_type": "code",
      "metadata": {
        "colab": {
          "base_uri": "https://localhost:8080/",
          "height": 408
        },
        "id": "DNLUnyHQVEWy",
        "outputId": "2a3f9746-1862-4568-8946-4944c1f0d4d7"
      },
      "source": [
        "dataset"
      ],
      "execution_count": null,
      "outputs": [
        {
          "output_type": "execute_result",
          "data": {
            "text/html": [
              "<div>\n",
              "<style scoped>\n",
              "    .dataframe tbody tr th:only-of-type {\n",
              "        vertical-align: middle;\n",
              "    }\n",
              "\n",
              "    .dataframe tbody tr th {\n",
              "        vertical-align: top;\n",
              "    }\n",
              "\n",
              "    .dataframe thead th {\n",
              "        text-align: right;\n",
              "    }\n",
              "</style>\n",
              "<table border=\"1\" class=\"dataframe\">\n",
              "  <thead>\n",
              "    <tr style=\"text-align: right;\">\n",
              "      <th></th>\n",
              "      <th>Reviews</th>\n",
              "      <th>Comments</th>\n",
              "    </tr>\n",
              "  </thead>\n",
              "  <tbody>\n",
              "    <tr>\n",
              "      <th>0</th>\n",
              "      <td>1</td>\n",
              "      <td>The Da Vinci Code book is just awesome.</td>\n",
              "    </tr>\n",
              "    <tr>\n",
              "      <th>1</th>\n",
              "      <td>1</td>\n",
              "      <td>this was the first clive cussler i've ever rea...</td>\n",
              "    </tr>\n",
              "    <tr>\n",
              "      <th>2</th>\n",
              "      <td>1</td>\n",
              "      <td>i liked the Da Vinci Code a lot.</td>\n",
              "    </tr>\n",
              "    <tr>\n",
              "      <th>3</th>\n",
              "      <td>1</td>\n",
              "      <td>i liked the Da Vinci Code a lot.</td>\n",
              "    </tr>\n",
              "    <tr>\n",
              "      <th>4</th>\n",
              "      <td>1</td>\n",
              "      <td>I liked the Da Vinci Code but it ultimatly did...</td>\n",
              "    </tr>\n",
              "    <tr>\n",
              "      <th>...</th>\n",
              "      <td>...</td>\n",
              "      <td>...</td>\n",
              "    </tr>\n",
              "    <tr>\n",
              "      <th>6913</th>\n",
              "      <td>0</td>\n",
              "      <td>Brokeback Mountain was boring.</td>\n",
              "    </tr>\n",
              "    <tr>\n",
              "      <th>6914</th>\n",
              "      <td>0</td>\n",
              "      <td>So Brokeback Mountain was really depressing.</td>\n",
              "    </tr>\n",
              "    <tr>\n",
              "      <th>6915</th>\n",
              "      <td>0</td>\n",
              "      <td>As I sit here, watching the MTV Movie Awards, ...</td>\n",
              "    </tr>\n",
              "    <tr>\n",
              "      <th>6916</th>\n",
              "      <td>0</td>\n",
              "      <td>Ok brokeback mountain is such a horrible movie.</td>\n",
              "    </tr>\n",
              "    <tr>\n",
              "      <th>6917</th>\n",
              "      <td>0</td>\n",
              "      <td>Oh, and Brokeback Mountain was a terrible movie.</td>\n",
              "    </tr>\n",
              "  </tbody>\n",
              "</table>\n",
              "<p>6918 rows × 2 columns</p>\n",
              "</div>"
            ],
            "text/plain": [
              "      Reviews                                           Comments\n",
              "0           1            The Da Vinci Code book is just awesome.\n",
              "1           1  this was the first clive cussler i've ever rea...\n",
              "2           1                   i liked the Da Vinci Code a lot.\n",
              "3           1                   i liked the Da Vinci Code a lot.\n",
              "4           1  I liked the Da Vinci Code but it ultimatly did...\n",
              "...       ...                                                ...\n",
              "6913        0                     Brokeback Mountain was boring.\n",
              "6914        0       So Brokeback Mountain was really depressing.\n",
              "6915        0  As I sit here, watching the MTV Movie Awards, ...\n",
              "6916        0    Ok brokeback mountain is such a horrible movie.\n",
              "6917        0   Oh, and Brokeback Mountain was a terrible movie.\n",
              "\n",
              "[6918 rows x 2 columns]"
            ]
          },
          "metadata": {
            "tags": []
          },
          "execution_count": 4
        }
      ]
    },
    {
      "cell_type": "code",
      "metadata": {
        "id": "4XQQ-4JWXZhH"
      },
      "source": [
        "\n",
        "stopset = set(stopwords.words('english'))\n"
      ],
      "execution_count": null,
      "outputs": []
    },
    {
      "cell_type": "code",
      "metadata": {
        "id": "SflhVUmVXl0r"
      },
      "source": [
        "vectorizer = TfidfVectorizer(use_idf = True,lowercase = True, strip_accents='ascii',stop_words=stopset)\n"
      ],
      "execution_count": null,
      "outputs": []
    },
    {
      "cell_type": "code",
      "metadata": {
        "id": "KHk0-Pe2Xsdm"
      },
      "source": [
        "X = vectorizer.fit_transform(dataset.Comments)\n",
        "y = dataset.Reviews\n",
        "pickle.dump(vectorizer, open('tranform.pkl', 'wb'))"
      ],
      "execution_count": null,
      "outputs": []
    },
    {
      "cell_type": "code",
      "metadata": {
        "colab": {
          "base_uri": "https://localhost:8080/"
        },
        "id": "N-lJZJN_fe81",
        "outputId": "46f213b6-76f5-4426-dfd6-a9334c366b71"
      },
      "source": [
        "X.shape"
      ],
      "execution_count": null,
      "outputs": [
        {
          "output_type": "execute_result",
          "data": {
            "text/plain": [
              "(6918, 2011)"
            ]
          },
          "metadata": {
            "tags": []
          },
          "execution_count": 54
        }
      ]
    },
    {
      "cell_type": "code",
      "metadata": {
        "id": "PkgMG8u2Xyv4"
      },
      "source": [
        "X_train, X_test, y_train, y_test = train_test_split(X, y, test_size=0.20, random_state=42)\n"
      ],
      "execution_count": null,
      "outputs": []
    },
    {
      "cell_type": "code",
      "metadata": {
        "colab": {
          "base_uri": "https://localhost:8080/"
        },
        "id": "a-CxkFiJX-PQ",
        "outputId": "87d4bce2-a90d-4764-f081-78f526df89a2"
      },
      "source": [
        "clf = naive_bayes.MultinomialNB()\n",
        "clf.fit(X_train,y_train)\n"
      ],
      "execution_count": null,
      "outputs": [
        {
          "output_type": "execute_result",
          "data": {
            "text/plain": [
              "MultinomialNB(alpha=1.0, class_prior=None, fit_prior=True)"
            ]
          },
          "metadata": {
            "tags": []
          },
          "execution_count": 13
        }
      ]
    },
    {
      "cell_type": "code",
      "metadata": {
        "colab": {
          "base_uri": "https://localhost:8080/"
        },
        "id": "QraBjxRGYAlX",
        "outputId": "b9c1e159-27a1-4e8e-aa74-ff917373364a"
      },
      "source": [
        "accuracy_score(y_test,clf.predict(X_test))*100\n"
      ],
      "execution_count": null,
      "outputs": [
        {
          "output_type": "execute_result",
          "data": {
            "text/plain": [
              "97.47109826589595"
            ]
          },
          "metadata": {
            "tags": []
          },
          "execution_count": 14
        }
      ]
    },
    {
      "cell_type": "code",
      "metadata": {
        "id": "hTqRRthKYJyx",
        "colab": {
          "base_uri": "https://localhost:8080/"
        },
        "outputId": "a62a65ec-f5c7-42b1-c955-c5968cf87c38"
      },
      "source": [
        "clf = naive_bayes.MultinomialNB()\n",
        "clf.fit(X,y)"
      ],
      "execution_count": null,
      "outputs": [
        {
          "output_type": "execute_result",
          "data": {
            "text/plain": [
              "MultinomialNB(alpha=1.0, class_prior=None, fit_prior=True)"
            ]
          },
          "metadata": {
            "tags": []
          },
          "execution_count": 15
        }
      ]
    },
    {
      "cell_type": "code",
      "metadata": {
        "colab": {
          "base_uri": "https://localhost:8080/"
        },
        "id": "0DXDDYxcit7J",
        "outputId": "47342c11-3426-42be-f376-4aeb5ebec3c4"
      },
      "source": [
        "accuracy_score(y_test,clf.predict(X_test))*100"
      ],
      "execution_count": null,
      "outputs": [
        {
          "output_type": "execute_result",
          "data": {
            "text/plain": [
              "98.77167630057804"
            ]
          },
          "metadata": {
            "tags": []
          },
          "execution_count": 205
        }
      ]
    },
    {
      "cell_type": "code",
      "metadata": {
        "id": "gaPzC8xxpsJ-"
      },
      "source": [
        "pickle.dump(clf, open('sentiment_model.pkl', 'wb'))"
      ],
      "execution_count": null,
      "outputs": []
    },
    {
      "cell_type": "code",
      "metadata": {
        "id": "oFH2ajJSkVsx"
      },
      "source": [
        "review = \"its a good movie.\""
      ],
      "execution_count": null,
      "outputs": []
    },
    {
      "cell_type": "code",
      "metadata": {
        "id": "eOKXG8qAk49y"
      },
      "source": [
        "a = np.array([review])"
      ],
      "execution_count": null,
      "outputs": []
    },
    {
      "cell_type": "code",
      "metadata": {
        "id": "KbIwWoGtkd11"
      },
      "source": [
        "new = vectorizer.transform(a)"
      ],
      "execution_count": null,
      "outputs": []
    },
    {
      "cell_type": "code",
      "metadata": {
        "colab": {
          "base_uri": "https://localhost:8080/"
        },
        "id": "Z15VgfVEqkE6",
        "outputId": "b801fe11-4aa6-4c1d-b39e-913b1876a639"
      },
      "source": [
        "new.shape"
      ],
      "execution_count": null,
      "outputs": [
        {
          "output_type": "execute_result",
          "data": {
            "text/plain": [
              "(1, 2011)"
            ]
          },
          "metadata": {
            "tags": []
          },
          "execution_count": 90
        }
      ]
    },
    {
      "cell_type": "code",
      "metadata": {
        "id": "pSRyopBwkzb_"
      },
      "source": [
        "pred = clf.predict(new)"
      ],
      "execution_count": null,
      "outputs": []
    },
    {
      "cell_type": "code",
      "metadata": {
        "colab": {
          "base_uri": "https://localhost:8080/"
        },
        "id": "SrvcNhq8lmJD",
        "outputId": "2c897b03-401c-4494-f4fe-0994223114d5"
      },
      "source": [
        "pred[0]"
      ],
      "execution_count": null,
      "outputs": [
        {
          "output_type": "execute_result",
          "data": {
            "text/plain": [
              "1"
            ]
          },
          "metadata": {
            "tags": []
          },
          "execution_count": 92
        }
      ]
    },
    {
      "cell_type": "code",
      "metadata": {
        "id": "BqlOCF5VsOzP"
      },
      "source": [
        ""
      ],
      "execution_count": null,
      "outputs": []
    }
  ]
}